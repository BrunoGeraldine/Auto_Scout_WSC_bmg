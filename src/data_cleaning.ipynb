{
 "cells": [
  {
   "cell_type": "markdown",
   "id": "1981758f-1503-4bb0-9e74-1d453eef207c",
   "metadata": {},
   "source": [
    "# Import"
   ]
  },
  {
   "cell_type": "code",
   "execution_count": 1,
   "id": "11cd53b7-6c82-41d2-9428-93f55331f6ac",
   "metadata": {},
   "outputs": [],
   "source": [
    "import re\n",
    "import pandas        as pd\n",
    "import numpy         as np"
   ]
  },
  {
   "cell_type": "markdown",
   "id": "07a59e4a-337d-4d94-86c9-d132da51fbb1",
   "metadata": {},
   "source": [
    "# Load DataSet"
   ]
  },
  {
   "cell_type": "code",
   "execution_count": 2,
   "id": "e3ff90df-0dd5-48ad-af84-2bd22de7903b",
   "metadata": {},
   "outputs": [],
   "source": [
    "df = pd.read_csv('../dataset/list_auto_cleaning.csv', encoding='utf-8', sep=';')\n",
    "df_2 = pd.read_csv('../dataset/list_auto_2023-10-30.csv', encoding='utf-8', sep=';')\n"
   ]
  },
  {
   "cell_type": "code",
   "execution_count": 3,
   "id": "adf108f9-b46c-4b55-8f15-8aa82fbc3b63",
   "metadata": {},
   "outputs": [
    {
     "data": {
      "text/html": [
       "<div>\n",
       "<style scoped>\n",
       "    .dataframe tbody tr th:only-of-type {\n",
       "        vertical-align: middle;\n",
       "    }\n",
       "\n",
       "    .dataframe tbody tr th {\n",
       "        vertical-align: top;\n",
       "    }\n",
       "\n",
       "    .dataframe thead th {\n",
       "        text-align: right;\n",
       "    }\n",
       "</style>\n",
       "<table border=\"1\" class=\"dataframe\">\n",
       "  <thead>\n",
       "    <tr style=\"text-align: right;\">\n",
       "      <th></th>\n",
       "      <th>id_ads</th>\n",
       "      <th>manufacturer_by</th>\n",
       "      <th>model</th>\n",
       "      <th>version</th>\n",
       "      <th>km</th>\n",
       "      <th>year</th>\n",
       "      <th>price</th>\n",
       "      <th>seller</th>\n",
       "      <th>endereco</th>\n",
       "      <th>scrapy_datetime</th>\n",
       "    </tr>\n",
       "  </thead>\n",
       "  <tbody>\n",
       "    <tr>\n",
       "      <th>0</th>\n",
       "      <td>7fd72920-850d-43ba-a452-cbae1a6398da</td>\n",
       "      <td>land rover</td>\n",
       "      <td>defender</td>\n",
       "      <td>110 SW SE</td>\n",
       "      <td>81000</td>\n",
       "      <td>08-2015</td>\n",
       "      <td>38000</td>\n",
       "      <td>AUTOMOVILES MARTIN</td>\n",
       "      <td>Contáctanos en: • ES-14440 VILLANUEVA DE CÓRDOBA</td>\n",
       "      <td>2023-10-30 12:35:47</td>\n",
       "    </tr>\n",
       "    <tr>\n",
       "      <th>1</th>\n",
       "      <td>aeab142d-acdb-4b57-b4e4-f4a8d305af30</td>\n",
       "      <td>land rover</td>\n",
       "      <td>defender</td>\n",
       "      <td>130 D300 X-Dynamic HSE Luftfederung StandHZG AHK</td>\n",
       "      <td>15</td>\n",
       "      <td>new</td>\n",
       "      <td>109900</td>\n",
       "      <td>AUTOMOVILES MARTIN</td>\n",
       "      <td>Contáctanos en: • ES-14440 VILLANUEVA DE CÓRDOBA</td>\n",
       "      <td>2023-10-30 12:35:47</td>\n",
       "    </tr>\n",
       "    <tr>\n",
       "      <th>2</th>\n",
       "      <td>7484ee53-ebc5-4510-8bf9-032e657837cf</td>\n",
       "      <td>land rover</td>\n",
       "      <td>defender</td>\n",
       "      <td>110 SW E</td>\n",
       "      <td>78000</td>\n",
       "      <td>08-2012</td>\n",
       "      <td>39500</td>\n",
       "      <td>AUTOMOVILES MARTIN</td>\n",
       "      <td>Contáctanos en: • ES-14440 VILLANUEVA DE CÓRDOBA</td>\n",
       "      <td>2023-10-30 12:35:47</td>\n",
       "    </tr>\n",
       "    <tr>\n",
       "      <th>3</th>\n",
       "      <td>9b6915b4-b744-4bd3-bd73-9de4141e42fa</td>\n",
       "      <td>land rover</td>\n",
       "      <td>defender</td>\n",
       "      <td>2.4 Turbo - D E</td>\n",
       "      <td>101706</td>\n",
       "      <td>09-2009</td>\n",
       "      <td>34995</td>\n",
       "      <td>AUTOMOVILES MARTIN</td>\n",
       "      <td>Contáctanos en: • ES-14440 VILLANUEVA DE CÓRDOBA</td>\n",
       "      <td>2023-10-30 12:35:47</td>\n",
       "    </tr>\n",
       "    <tr>\n",
       "      <th>4</th>\n",
       "      <td>c29521a8-666e-4c6e-822a-3ae66def0890</td>\n",
       "      <td>land rover</td>\n",
       "      <td>defender</td>\n",
       "      <td>110 SW E</td>\n",
       "      <td>65000</td>\n",
       "      <td>08-2013</td>\n",
       "      <td>41000</td>\n",
       "      <td>AUTOMOVILES MARTIN</td>\n",
       "      <td>Contáctanos en: • ES-14440 VILLANUEVA DE CÓRDOBA</td>\n",
       "      <td>2023-10-30 12:35:47</td>\n",
       "    </tr>\n",
       "  </tbody>\n",
       "</table>\n",
       "</div>"
      ],
      "text/plain": [
       "                                 id_ads manufacturer_by     model  \\\n",
       "0  7fd72920-850d-43ba-a452-cbae1a6398da      land rover  defender   \n",
       "1  aeab142d-acdb-4b57-b4e4-f4a8d305af30      land rover  defender   \n",
       "2  7484ee53-ebc5-4510-8bf9-032e657837cf      land rover  defender   \n",
       "3  9b6915b4-b744-4bd3-bd73-9de4141e42fa      land rover  defender   \n",
       "4  c29521a8-666e-4c6e-822a-3ae66def0890      land rover  defender   \n",
       "\n",
       "                                            version      km     year   price  \\\n",
       "0                                         110 SW SE   81000  08-2015   38000   \n",
       "1  130 D300 X-Dynamic HSE Luftfederung StandHZG AHK      15      new  109900   \n",
       "2                                          110 SW E   78000  08-2012   39500   \n",
       "3                                   2.4 Turbo - D E  101706  09-2009   34995   \n",
       "4                                          110 SW E   65000  08-2013   41000   \n",
       "\n",
       "               seller                                          endereco  \\\n",
       "0  AUTOMOVILES MARTIN  Contáctanos en: • ES-14440 VILLANUEVA DE CÓRDOBA   \n",
       "1  AUTOMOVILES MARTIN  Contáctanos en: • ES-14440 VILLANUEVA DE CÓRDOBA   \n",
       "2  AUTOMOVILES MARTIN  Contáctanos en: • ES-14440 VILLANUEVA DE CÓRDOBA   \n",
       "3  AUTOMOVILES MARTIN  Contáctanos en: • ES-14440 VILLANUEVA DE CÓRDOBA   \n",
       "4  AUTOMOVILES MARTIN  Contáctanos en: • ES-14440 VILLANUEVA DE CÓRDOBA   \n",
       "\n",
       "       scrapy_datetime  \n",
       "0  2023-10-30 12:35:47  \n",
       "1  2023-10-30 12:35:47  \n",
       "2  2023-10-30 12:35:47  \n",
       "3  2023-10-30 12:35:47  \n",
       "4  2023-10-30 12:35:47  "
      ]
     },
     "execution_count": 3,
     "metadata": {},
     "output_type": "execute_result"
    }
   ],
   "source": [
    "df_2.head()"
   ]
  },
  {
   "cell_type": "markdown",
   "id": "70fb456d-8dc9-4c93-beeb-eac7dc39b7db",
   "metadata": {},
   "source": [
    "# Using REGEX langague to clean and capture data-info"
   ]
  },
  {
   "cell_type": "code",
   "execution_count": 5,
   "id": "2589ad2b-f556-4ecd-9117-e0205d146654",
   "metadata": {},
   "outputs": [],
   "source": [
    "df_clean = df_2.copy()"
   ]
  },
  {
   "cell_type": "code",
   "execution_count": 6,
   "id": "20be9ba6",
   "metadata": {},
   "outputs": [],
   "source": [
    "# \"Extracting the postal code from the vehicle's country of origin. \n",
    "# Applying Regex for data cleaning.\"\n",
    "df_clean['zip_code'] = df_clean['endereco'].apply(lambda x: int(re.search('\\d+', x).group(0) if pd.notnull( x ) else x ))"
   ]
  },
  {
   "cell_type": "code",
   "execution_count": 7,
   "id": "bfdbd370-89d8-4ee1-a06d-376461cc7140",
   "metadata": {},
   "outputs": [],
   "source": [
    "# Model\n",
    "df_clean['model'] = 'DEFENDER' + ' ' + df_clean['version'].apply(lambda x: ' '.join(re.findall(r'\\b(88|90|110|130)\\b', x)) if re.findall(r'\\d+', x) else None)"
   ]
  },
  {
   "cell_type": "code",
   "execution_count": 8,
   "id": "3a0d9a1b",
   "metadata": {},
   "outputs": [],
   "source": [
    "# Version Type\n",
    "df_clean['engine'] = df_clean['version'].apply(lambda x: ' '.join(re.findall(r'[A-Za-z]+\\d+', x)) if re.findall(r'\\d+', x) else None)\n",
    "df_clean['engine_version'] = df_clean['version'].apply(lambda x: ' '.join(re.findall(r'(AWD|SW|SE|HSE|MHEV|HT)', x)) if re.findall(r'\\d+', x) else None)\n",
    "df_clean['cc_engine'] = df_clean['version'].apply(lambda x: ' '.join(re.findall(r'\\b\\d\\.\\d', x)) if re.findall(r'\\d+', x) else None)\n",
    "\n",
    "# Replacing model version values.\n",
    "df_clean['version'] = df_clean.apply(lambda row: row['engine'] + ' ' + row['engine_version'] + ' ' + row['cc_engine'] if row['engine'] is not None and row['engine_version'] is not None and row['cc_engine'] is not None else None, axis=1)\n"
   ]
  },
  {
   "cell_type": "code",
   "execution_count": 9,
   "id": "dac7b345",
   "metadata": {},
   "outputs": [],
   "source": [
    "#Country\n",
    "df_clean['country'] = df_clean['endereco'].apply(lambda x: str(re.search(r\"([A-Z]{2})\", x).group(0) if pd.notnull( x ) else x ))"
   ]
  },
  {
   "cell_type": "code",
   "execution_count": 10,
   "id": "6b4a9ab6",
   "metadata": {},
   "outputs": [],
   "source": [
    "# DataTime cleaning\n",
    "\n",
    "df_clean['year'] = df_clean['year'].str.replace('-', '/')\n",
    "\n",
    "\n",
    "for i in range(len(df_clean)):\n",
    "    if df_clean['year'][i] == 'new' or df_clean['year'][i] == 'unknown' or df_clean['year'][i] == 'None':\n",
    "        df_clean.at[i, 'year'] = '01/2023'\n",
    "\n",
    "\n",
    "df_clean['year'] = pd.to_datetime(df_clean['year'], format='%m/%Y')\n",
    "\n",
    "df_clean['year'] = df_clean['year'].dt.year\n"
   ]
  },
  {
   "cell_type": "markdown",
   "id": "acc67b72",
   "metadata": {},
   "source": [
    "## DataFrame Final"
   ]
  },
  {
   "cell_type": "code",
   "execution_count": 11,
   "id": "c8850055",
   "metadata": {},
   "outputs": [],
   "source": [
    "df_final = pd.DataFrame(df_clean[['id_ads', 'manufacturer_by', 'model', 'version', 'km', 'year',\n",
    "                                  'price', 'seller', 'endereco', 'scrapy_datetime', 'zip_code', 'country']])"
   ]
  },
  {
   "cell_type": "code",
   "execution_count": 13,
   "id": "cf3eca3b",
   "metadata": {},
   "outputs": [
    {
     "data": {
      "text/html": [
       "<div>\n",
       "<style scoped>\n",
       "    .dataframe tbody tr th:only-of-type {\n",
       "        vertical-align: middle;\n",
       "    }\n",
       "\n",
       "    .dataframe tbody tr th {\n",
       "        vertical-align: top;\n",
       "    }\n",
       "\n",
       "    .dataframe thead th {\n",
       "        text-align: right;\n",
       "    }\n",
       "</style>\n",
       "<table border=\"1\" class=\"dataframe\">\n",
       "  <thead>\n",
       "    <tr style=\"text-align: right;\">\n",
       "      <th></th>\n",
       "      <th>id_ads</th>\n",
       "      <th>manufacturer_by</th>\n",
       "      <th>model</th>\n",
       "      <th>version</th>\n",
       "      <th>km</th>\n",
       "      <th>year</th>\n",
       "      <th>price</th>\n",
       "      <th>seller</th>\n",
       "      <th>endereco</th>\n",
       "      <th>scrapy_datetime</th>\n",
       "      <th>zip_code</th>\n",
       "      <th>country</th>\n",
       "    </tr>\n",
       "  </thead>\n",
       "  <tbody>\n",
       "    <tr>\n",
       "      <th>0</th>\n",
       "      <td>7fd72920-850d-43ba-a452-cbae1a6398da</td>\n",
       "      <td>land rover</td>\n",
       "      <td>DEFENDER 110</td>\n",
       "      <td>SW SE</td>\n",
       "      <td>81000</td>\n",
       "      <td>2015</td>\n",
       "      <td>38000</td>\n",
       "      <td>AUTOMOVILES MARTIN</td>\n",
       "      <td>Contáctanos en: • ES-14440 VILLANUEVA DE CÓRDOBA</td>\n",
       "      <td>2023-10-30 12:35:47</td>\n",
       "      <td>14440</td>\n",
       "      <td>ES</td>\n",
       "    </tr>\n",
       "    <tr>\n",
       "      <th>1</th>\n",
       "      <td>aeab142d-acdb-4b57-b4e4-f4a8d305af30</td>\n",
       "      <td>land rover</td>\n",
       "      <td>DEFENDER 130</td>\n",
       "      <td>D300 HSE</td>\n",
       "      <td>15</td>\n",
       "      <td>2023</td>\n",
       "      <td>109900</td>\n",
       "      <td>AUTOMOVILES MARTIN</td>\n",
       "      <td>Contáctanos en: • ES-14440 VILLANUEVA DE CÓRDOBA</td>\n",
       "      <td>2023-10-30 12:35:47</td>\n",
       "      <td>14440</td>\n",
       "      <td>ES</td>\n",
       "    </tr>\n",
       "    <tr>\n",
       "      <th>2</th>\n",
       "      <td>7484ee53-ebc5-4510-8bf9-032e657837cf</td>\n",
       "      <td>land rover</td>\n",
       "      <td>DEFENDER 110</td>\n",
       "      <td>SW</td>\n",
       "      <td>78000</td>\n",
       "      <td>2012</td>\n",
       "      <td>39500</td>\n",
       "      <td>AUTOMOVILES MARTIN</td>\n",
       "      <td>Contáctanos en: • ES-14440 VILLANUEVA DE CÓRDOBA</td>\n",
       "      <td>2023-10-30 12:35:47</td>\n",
       "      <td>14440</td>\n",
       "      <td>ES</td>\n",
       "    </tr>\n",
       "    <tr>\n",
       "      <th>3</th>\n",
       "      <td>9b6915b4-b744-4bd3-bd73-9de4141e42fa</td>\n",
       "      <td>land rover</td>\n",
       "      <td>DEFENDER</td>\n",
       "      <td>2.4</td>\n",
       "      <td>101706</td>\n",
       "      <td>2009</td>\n",
       "      <td>34995</td>\n",
       "      <td>AUTOMOVILES MARTIN</td>\n",
       "      <td>Contáctanos en: • ES-14440 VILLANUEVA DE CÓRDOBA</td>\n",
       "      <td>2023-10-30 12:35:47</td>\n",
       "      <td>14440</td>\n",
       "      <td>ES</td>\n",
       "    </tr>\n",
       "    <tr>\n",
       "      <th>4</th>\n",
       "      <td>c29521a8-666e-4c6e-822a-3ae66def0890</td>\n",
       "      <td>land rover</td>\n",
       "      <td>DEFENDER 110</td>\n",
       "      <td>SW</td>\n",
       "      <td>65000</td>\n",
       "      <td>2013</td>\n",
       "      <td>41000</td>\n",
       "      <td>AUTOMOVILES MARTIN</td>\n",
       "      <td>Contáctanos en: • ES-14440 VILLANUEVA DE CÓRDOBA</td>\n",
       "      <td>2023-10-30 12:35:47</td>\n",
       "      <td>14440</td>\n",
       "      <td>ES</td>\n",
       "    </tr>\n",
       "  </tbody>\n",
       "</table>\n",
       "</div>"
      ],
      "text/plain": [
       "                                 id_ads manufacturer_by         model  \\\n",
       "0  7fd72920-850d-43ba-a452-cbae1a6398da      land rover  DEFENDER 110   \n",
       "1  aeab142d-acdb-4b57-b4e4-f4a8d305af30      land rover  DEFENDER 130   \n",
       "2  7484ee53-ebc5-4510-8bf9-032e657837cf      land rover  DEFENDER 110   \n",
       "3  9b6915b4-b744-4bd3-bd73-9de4141e42fa      land rover     DEFENDER    \n",
       "4  c29521a8-666e-4c6e-822a-3ae66def0890      land rover  DEFENDER 110   \n",
       "\n",
       "     version      km  year   price              seller  \\\n",
       "0     SW SE    81000  2015   38000  AUTOMOVILES MARTIN   \n",
       "1  D300 HSE       15  2023  109900  AUTOMOVILES MARTIN   \n",
       "2        SW    78000  2012   39500  AUTOMOVILES MARTIN   \n",
       "3        2.4  101706  2009   34995  AUTOMOVILES MARTIN   \n",
       "4        SW    65000  2013   41000  AUTOMOVILES MARTIN   \n",
       "\n",
       "                                           endereco      scrapy_datetime  \\\n",
       "0  Contáctanos en: • ES-14440 VILLANUEVA DE CÓRDOBA  2023-10-30 12:35:47   \n",
       "1  Contáctanos en: • ES-14440 VILLANUEVA DE CÓRDOBA  2023-10-30 12:35:47   \n",
       "2  Contáctanos en: • ES-14440 VILLANUEVA DE CÓRDOBA  2023-10-30 12:35:47   \n",
       "3  Contáctanos en: • ES-14440 VILLANUEVA DE CÓRDOBA  2023-10-30 12:35:47   \n",
       "4  Contáctanos en: • ES-14440 VILLANUEVA DE CÓRDOBA  2023-10-30 12:35:47   \n",
       "\n",
       "   zip_code country  \n",
       "0     14440      ES  \n",
       "1     14440      ES  \n",
       "2     14440      ES  \n",
       "3     14440      ES  \n",
       "4     14440      ES  "
      ]
     },
     "execution_count": 13,
     "metadata": {},
     "output_type": "execute_result"
    }
   ],
   "source": [
    "df_final.head()"
   ]
  },
  {
   "cell_type": "code",
   "execution_count": 12,
   "id": "3e9fec1a",
   "metadata": {},
   "outputs": [
    {
     "data": {
      "text/plain": [
       "id_ads             object\n",
       "manufacturer_by    object\n",
       "model              object\n",
       "version            object\n",
       "km                 object\n",
       "year                int32\n",
       "price               int64\n",
       "seller             object\n",
       "endereco           object\n",
       "scrapy_datetime    object\n",
       "zip_code            int64\n",
       "country            object\n",
       "dtype: object"
      ]
     },
     "execution_count": 12,
     "metadata": {},
     "output_type": "execute_result"
    }
   ],
   "source": [
    "df_final.dtypes"
   ]
  },
  {
   "cell_type": "markdown",
   "id": "979e8ed8",
   "metadata": {},
   "source": [
    "## Save the final dataset\n"
   ]
  },
  {
   "cell_type": "code",
   "execution_count": 165,
   "id": "ac00cb19",
   "metadata": {},
   "outputs": [
    {
     "name": "stdout",
     "output_type": "stream",
     "text": [
      "399\n"
     ]
    }
   ],
   "source": [
    "rows = df_final.shape[0]\n",
    "print(rows)\n",
    "df_final.to_csv('../dataset/df_final.csv', encoding='utf-8', sep=';')"
   ]
  },
  {
   "cell_type": "code",
   "execution_count": null,
   "id": "df6b6ea6",
   "metadata": {},
   "outputs": [],
   "source": []
  }
 ],
 "metadata": {
  "kernelspec": {
   "display_name": "ws_scout",
   "language": "python",
   "name": "python3"
  },
  "language_info": {
   "codemirror_mode": {
    "name": "ipython",
    "version": 3
   },
   "file_extension": ".py",
   "mimetype": "text/x-python",
   "name": "python",
   "nbconvert_exporter": "python",
   "pygments_lexer": "ipython3",
   "version": "3.11.0"
  }
 },
 "nbformat": 4,
 "nbformat_minor": 5
}
