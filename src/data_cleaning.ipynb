{
 "cells": [
  {
   "cell_type": "markdown",
   "id": "1981758f-1503-4bb0-9e74-1d453eef207c",
   "metadata": {},
   "source": [
    "# Import"
   ]
  },
  {
   "cell_type": "code",
   "execution_count": 2,
   "id": "11cd53b7-6c82-41d2-9428-93f55331f6ac",
   "metadata": {},
   "outputs": [],
   "source": [
    "import re\n",
    "import pandas        as pd\n",
    "import numpy         as np"
   ]
  },
  {
   "cell_type": "markdown",
   "id": "07a59e4a-337d-4d94-86c9-d132da51fbb1",
   "metadata": {},
   "source": [
    "# Load DataSet"
   ]
  },
  {
   "cell_type": "code",
   "execution_count": 4,
   "id": "e3ff90df-0dd5-48ad-af84-2bd22de7903b",
   "metadata": {},
   "outputs": [],
   "source": [
    "df = pd.read_csv('../dataset/list_auto_cleaning.csv', encoding='utf-8', sep=';')"
   ]
  },
  {
   "cell_type": "code",
   "execution_count": 5,
   "id": "adf108f9-b46c-4b55-8f15-8aa82fbc3b63",
   "metadata": {},
   "outputs": [
    {
     "data": {
      "text/html": [
       "<div>\n",
       "<style scoped>\n",
       "    .dataframe tbody tr th:only-of-type {\n",
       "        vertical-align: middle;\n",
       "    }\n",
       "\n",
       "    .dataframe tbody tr th {\n",
       "        vertical-align: top;\n",
       "    }\n",
       "\n",
       "    .dataframe thead th {\n",
       "        text-align: right;\n",
       "    }\n",
       "</style>\n",
       "<table border=\"1\" class=\"dataframe\">\n",
       "  <thead>\n",
       "    <tr style=\"text-align: right;\">\n",
       "      <th></th>\n",
       "      <th>Unnamed: 0</th>\n",
       "      <th>id_ads</th>\n",
       "      <th>manufacturer_by</th>\n",
       "      <th>model</th>\n",
       "      <th>version</th>\n",
       "      <th>km</th>\n",
       "      <th>year</th>\n",
       "      <th>price</th>\n",
       "      <th>seller</th>\n",
       "      <th>endereco</th>\n",
       "      <th>scrapy_datetime</th>\n",
       "    </tr>\n",
       "  </thead>\n",
       "  <tbody>\n",
       "    <tr>\n",
       "      <th>0</th>\n",
       "      <td>0</td>\n",
       "      <td>7fd72920-850d-43ba-a452-cbae1a6398da</td>\n",
       "      <td>land rover</td>\n",
       "      <td>defender</td>\n",
       "      <td>110 SW SE</td>\n",
       "      <td>81000</td>\n",
       "      <td>08-2015</td>\n",
       "      <td>38000</td>\n",
       "      <td>AUTOMOVILES MARTIN</td>\n",
       "      <td>Contáctanos en: • ES-14440 VILLANUEVA DE CÓRDOBA</td>\n",
       "      <td>2023-10-19 12:22:03</td>\n",
       "    </tr>\n",
       "    <tr>\n",
       "      <th>1</th>\n",
       "      <td>1</td>\n",
       "      <td>840de0a3-82a9-454c-a725-508e211af7de</td>\n",
       "      <td>land rover</td>\n",
       "      <td>defender</td>\n",
       "      <td>Defender 90 td5 -MOTORE NUOVO-MECCANICA PERFETTA</td>\n",
       "      <td>147000</td>\n",
       "      <td>11-1999</td>\n",
       "      <td>24900</td>\n",
       "      <td>AUTOMOVILES MARTIN</td>\n",
       "      <td>Contáctanos en: • ES-14440 VILLANUEVA DE CÓRDOBA</td>\n",
       "      <td>2023-10-19 12:22:03</td>\n",
       "    </tr>\n",
       "    <tr>\n",
       "      <th>2</th>\n",
       "      <td>2</td>\n",
       "      <td>6611c967-ab67-4db5-b28f-37b77fcd332f</td>\n",
       "      <td>land rover</td>\n",
       "      <td>defender</td>\n",
       "      <td>110 SW E</td>\n",
       "      <td>79000</td>\n",
       "      <td>08-2013</td>\n",
       "      <td>39900</td>\n",
       "      <td>AUTOMOVILES MARTIN</td>\n",
       "      <td>Contáctanos en: • ES-14440 VILLANUEVA DE CÓRDOBA</td>\n",
       "      <td>2023-10-19 12:22:03</td>\n",
       "    </tr>\n",
       "    <tr>\n",
       "      <th>3</th>\n",
       "      <td>3</td>\n",
       "      <td>7484ee53-ebc5-4510-8bf9-032e657837cf</td>\n",
       "      <td>land rover</td>\n",
       "      <td>defender</td>\n",
       "      <td>110 SW E</td>\n",
       "      <td>78000</td>\n",
       "      <td>08-2012</td>\n",
       "      <td>39500</td>\n",
       "      <td>AUTOMOVILES MARTIN</td>\n",
       "      <td>Contáctanos en: • ES-14440 VILLANUEVA DE CÓRDOBA</td>\n",
       "      <td>2023-10-19 12:22:03</td>\n",
       "    </tr>\n",
       "    <tr>\n",
       "      <th>4</th>\n",
       "      <td>4</td>\n",
       "      <td>08c56b66-b680-4f5c-b63a-33ce190b65eb</td>\n",
       "      <td>land rover</td>\n",
       "      <td>defender</td>\n",
       "      <td>110 SW SE</td>\n",
       "      <td>52000</td>\n",
       "      <td>08-2014</td>\n",
       "      <td>42600</td>\n",
       "      <td>AUTOMOVILES MARTIN</td>\n",
       "      <td>Contáctanos en: • ES-14440 VILLANUEVA DE CÓRDOBA</td>\n",
       "      <td>2023-10-19 12:22:03</td>\n",
       "    </tr>\n",
       "  </tbody>\n",
       "</table>\n",
       "</div>"
      ],
      "text/plain": [
       "   Unnamed: 0                                id_ads manufacturer_by     model  \\\n",
       "0           0  7fd72920-850d-43ba-a452-cbae1a6398da      land rover  defender   \n",
       "1           1  840de0a3-82a9-454c-a725-508e211af7de      land rover  defender   \n",
       "2           2  6611c967-ab67-4db5-b28f-37b77fcd332f      land rover  defender   \n",
       "3           3  7484ee53-ebc5-4510-8bf9-032e657837cf      land rover  defender   \n",
       "4           4  08c56b66-b680-4f5c-b63a-33ce190b65eb      land rover  defender   \n",
       "\n",
       "                                            version      km     year  price  \\\n",
       "0                                         110 SW SE   81000  08-2015  38000   \n",
       "1  Defender 90 td5 -MOTORE NUOVO-MECCANICA PERFETTA  147000  11-1999  24900   \n",
       "2                                          110 SW E   79000  08-2013  39900   \n",
       "3                                          110 SW E   78000  08-2012  39500   \n",
       "4                                         110 SW SE   52000  08-2014  42600   \n",
       "\n",
       "               seller                                          endereco  \\\n",
       "0  AUTOMOVILES MARTIN  Contáctanos en: • ES-14440 VILLANUEVA DE CÓRDOBA   \n",
       "1  AUTOMOVILES MARTIN  Contáctanos en: • ES-14440 VILLANUEVA DE CÓRDOBA   \n",
       "2  AUTOMOVILES MARTIN  Contáctanos en: • ES-14440 VILLANUEVA DE CÓRDOBA   \n",
       "3  AUTOMOVILES MARTIN  Contáctanos en: • ES-14440 VILLANUEVA DE CÓRDOBA   \n",
       "4  AUTOMOVILES MARTIN  Contáctanos en: • ES-14440 VILLANUEVA DE CÓRDOBA   \n",
       "\n",
       "       scrapy_datetime  \n",
       "0  2023-10-19 12:22:03  \n",
       "1  2023-10-19 12:22:03  \n",
       "2  2023-10-19 12:22:03  \n",
       "3  2023-10-19 12:22:03  \n",
       "4  2023-10-19 12:22:03  "
      ]
     },
     "execution_count": 5,
     "metadata": {},
     "output_type": "execute_result"
    }
   ],
   "source": [
    "df.head()"
   ]
  },
  {
   "cell_type": "markdown",
   "id": "70fb456d-8dc9-4c93-beeb-eac7dc39b7db",
   "metadata": {},
   "source": [
    "# Using REGEX langague to clean and capture data-info"
   ]
  },
  {
   "cell_type": "code",
   "execution_count": 139,
   "id": "2589ad2b-f556-4ecd-9117-e0205d146654",
   "metadata": {},
   "outputs": [],
   "source": [
    "df_clean = df.copy()"
   ]
  },
  {
   "cell_type": "code",
   "execution_count": 140,
   "id": "20be9ba6",
   "metadata": {},
   "outputs": [],
   "source": [
    "# \"Extracting the postal code from the vehicle's country of origin. \n",
    "# Applying Regex for data cleaning.\"\n",
    "df_clean['zip_code'] = df_clean['endereco'].apply(lambda x: int(re.search('\\d+', x).group(0) if pd.notnull( x ) else x ))"
   ]
  },
  {
   "cell_type": "code",
   "execution_count": 141,
   "id": "bfdbd370-89d8-4ee1-a06d-376461cc7140",
   "metadata": {},
   "outputs": [],
   "source": [
    "# Model\n",
    "df_clean['model'] = 'DEFENDER' + ' ' + df_clean['version'].apply(lambda x: ' '.join(re.findall(r'\\b(88|90|110|130)\\b', x)) if re.findall(r'\\d+', x) else None)"
   ]
  },
  {
   "cell_type": "code",
   "execution_count": 142,
   "id": "3a0d9a1b",
   "metadata": {},
   "outputs": [],
   "source": [
    "# Version Type\n",
    "df_clean['engine'] = df_clean['version'].apply(lambda x: ' '.join(re.findall(r'[A-Za-z]+\\d+', x)) if re.findall(r'\\d+', x) else None)\n",
    "df_clean['engine_version'] = df_clean['version'].apply(lambda x: ' '.join(re.findall(r'(AWD|SW|SE|HSE|MHEV|HT)', x)) if re.findall(r'\\d+', x) else None)\n",
    "df_clean['cc_engine'] = df_clean['version'].apply(lambda x: ' '.join(re.findall(r'\\b\\d\\.\\d', x)) if re.findall(r'\\d+', x) else None)\n",
    "\n",
    "# Replacing model version values.\n",
    "df_clean['version'] = df_clean.apply(lambda row: row['engine'] + ' ' + row['engine_version'] + ' ' + row['cc_engine'] if row['engine'] is not None and row['engine_version'] is not None and row['cc_engine'] is not None else None, axis=1)\n"
   ]
  },
  {
   "cell_type": "code",
   "execution_count": 143,
   "id": "dac7b345",
   "metadata": {},
   "outputs": [],
   "source": [
    "#Country\n",
    "df_clean['country'] = df_clean['endereco'].apply(lambda x: str(re.search(r\"([A-Z]{2})\", x).group(0) if pd.notnull( x ) else x ))"
   ]
  },
  {
   "cell_type": "code",
   "execution_count": 144,
   "id": "6b4a9ab6",
   "metadata": {},
   "outputs": [],
   "source": [
    "# DataTime cleaning\n",
    "\n",
    "df_clean['year'] = df_clean['year'].str.replace('-', '/')\n",
    "\n",
    "\n",
    "for i in range(len(df_clean)):\n",
    "    if df_clean['year'][i] == 'new' or df_clean['year'][i] == 'unknown' or df_clean['year'][i] == 'None':\n",
    "        df_clean.at[i, 'year'] = '01/2023'\n",
    "\n",
    "\n",
    "df_clean['year'] = pd.to_datetime(df_clean['year'], format='%m/%Y')\n",
    "\n",
    "df_clean['year'] = df_clean['year'].dt.year\n"
   ]
  },
  {
   "cell_type": "markdown",
   "id": "acc67b72",
   "metadata": {},
   "source": [
    "## DataFrame Final"
   ]
  },
  {
   "cell_type": "code",
   "execution_count": 162,
   "id": "c8850055",
   "metadata": {},
   "outputs": [],
   "source": [
    "df_final = pd.DataFrame(df_clean[['id_ads', 'manufacturer_by', 'model', 'version', 'km', 'year',\n",
    "                                  'price', 'seller', 'endereco', 'scrapy_datetime', 'zip_code', 'country']])"
   ]
  },
  {
   "cell_type": "code",
   "execution_count": 164,
   "id": "3e9fec1a",
   "metadata": {},
   "outputs": [
    {
     "data": {
      "text/plain": [
       "id_ads             object\n",
       "manufacturer_by    object\n",
       "model              object\n",
       "version            object\n",
       "km                 object\n",
       "year                int32\n",
       "price               int64\n",
       "seller             object\n",
       "endereco           object\n",
       "scrapy_datetime    object\n",
       "zip_code            int64\n",
       "country            object\n",
       "dtype: object"
      ]
     },
     "execution_count": 164,
     "metadata": {},
     "output_type": "execute_result"
    }
   ],
   "source": [
    "df_final.dtypes"
   ]
  },
  {
   "cell_type": "markdown",
   "id": "979e8ed8",
   "metadata": {},
   "source": [
    "## Save the final dataset\n"
   ]
  },
  {
   "cell_type": "code",
   "execution_count": 165,
   "id": "ac00cb19",
   "metadata": {},
   "outputs": [
    {
     "name": "stdout",
     "output_type": "stream",
     "text": [
      "399\n"
     ]
    }
   ],
   "source": [
    "rows = df_final.shape[0]\n",
    "print(rows)\n",
    "df_final.to_csv('../dataset/df_final.csv', encoding='utf-8', sep=';')"
   ]
  },
  {
   "cell_type": "code",
   "execution_count": null,
   "id": "df6b6ea6",
   "metadata": {},
   "outputs": [],
   "source": []
  }
 ],
 "metadata": {
  "kernelspec": {
   "display_name": "ws_scout",
   "language": "python",
   "name": "python3"
  },
  "language_info": {
   "codemirror_mode": {
    "name": "ipython",
    "version": 3
   },
   "file_extension": ".py",
   "mimetype": "text/x-python",
   "name": "python",
   "nbconvert_exporter": "python",
   "pygments_lexer": "ipython3",
   "version": "3.11.0"
  }
 },
 "nbformat": 4,
 "nbformat_minor": 5
}
