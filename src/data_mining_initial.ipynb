{
 "cells": [
  {
   "cell_type": "markdown",
   "id": "9d342a01",
   "metadata": {},
   "source": [
    "# Always run this code on the first day of the month!"
   ]
  },
  {
   "cell_type": "markdown",
   "id": "1981758f-1503-4bb0-9e74-1d453eef207c",
   "metadata": {},
   "source": [
    "# Import"
   ]
  },
  {
   "cell_type": "code",
   "execution_count": 1,
   "id": "11cd53b7-6c82-41d2-9428-93f55331f6ac",
   "metadata": {},
   "outputs": [],
   "source": [
    "import re\n",
    "import requests\n",
    "import pandas        as pd\n",
    "\n",
    "from bs4             import BeautifulSoup\n",
    "from datetime        import datetime"
   ]
  },
  {
   "cell_type": "markdown",
   "id": "5c303865-4059-4bbe-bb4a-3b382cccedf8",
   "metadata": {},
   "source": [
    "# API building"
   ]
  },
  {
   "cell_type": "code",
   "execution_count": 2,
   "id": "5469f130-d6c2-4984-a115-7b4fd9248244",
   "metadata": {},
   "outputs": [],
   "source": [
    "#Link do acesso\n",
    "url = requests.get(\"https://www.autoscout24.com/lst/land-rover?atype=C&desc=0&sort=standard&source=homepage_search-mask&ustate=N%2CU\")\n",
    "\n",
    "#Salvando o objeto\n",
    "content = url.content\n",
    "url_final = []\n",
    "\n",
    "#Convertendo para um objeto do tipo BeautifulSoup\n",
    "soup = BeautifulSoup(content, 'html.parser')\n",
    "\n",
    "list_auto = []"
   ]
  },
  {
   "cell_type": "markdown",
   "id": "2b5e6769-de34-4792-9089-90cff2ba1868",
   "metadata": {},
   "source": [
    "# Acessando todos os produtos"
   ]
  },
  {
   "cell_type": "code",
   "execution_count": 3,
   "id": "4d53b37f-a575-4c4e-b6f3-dd4d6c1fddca",
   "metadata": {},
   "outputs": [
    {
     "name": "stdout",
     "output_type": "stream",
     "text": [
      "['https://www.autoscout24.com/lst/land-rover/defender?atype=C&cy=D%2CA%2CB%2CE%2CF%2CI%2CL%2CNL&damaged_listing=exclude&desc=0&page=1&powertype=kw&search_id=2gn5j092pnr&sort=standard&source=listpage_pagination&ustate=N%2CU', 'https://www.autoscout24.com/lst/land-rover/defender?atype=C&cy=D%2CA%2CB%2CE%2CF%2CI%2CL%2CNL&damaged_listing=exclude&desc=0&page=2&powertype=kw&search_id=2gn5j092pnr&sort=standard&source=listpage_pagination&ustate=N%2CU', 'https://www.autoscout24.com/lst/land-rover/defender?atype=C&cy=D%2CA%2CB%2CE%2CF%2CI%2CL%2CNL&damaged_listing=exclude&desc=0&page=3&powertype=kw&search_id=2gn5j092pnr&sort=standard&source=listpage_pagination&ustate=N%2CU', 'https://www.autoscout24.com/lst/land-rover/defender?atype=C&cy=D%2CA%2CB%2CE%2CF%2CI%2CL%2CNL&damaged_listing=exclude&desc=0&page=4&powertype=kw&search_id=2gn5j092pnr&sort=standard&source=listpage_pagination&ustate=N%2CU', 'https://www.autoscout24.com/lst/land-rover/defender?atype=C&cy=D%2CA%2CB%2CE%2CF%2CI%2CL%2CNL&damaged_listing=exclude&desc=0&page=5&powertype=kw&search_id=2gn5j092pnr&sort=standard&source=listpage_pagination&ustate=N%2CU', 'https://www.autoscout24.com/lst/land-rover/defender?atype=C&cy=D%2CA%2CB%2CE%2CF%2CI%2CL%2CNL&damaged_listing=exclude&desc=0&page=6&powertype=kw&search_id=2gn5j092pnr&sort=standard&source=listpage_pagination&ustate=N%2CU', 'https://www.autoscout24.com/lst/land-rover/defender?atype=C&cy=D%2CA%2CB%2CE%2CF%2CI%2CL%2CNL&damaged_listing=exclude&desc=0&page=7&powertype=kw&search_id=2gn5j092pnr&sort=standard&source=listpage_pagination&ustate=N%2CU', 'https://www.autoscout24.com/lst/land-rover/defender?atype=C&cy=D%2CA%2CB%2CE%2CF%2CI%2CL%2CNL&damaged_listing=exclude&desc=0&page=8&powertype=kw&search_id=2gn5j092pnr&sort=standard&source=listpage_pagination&ustate=N%2CU', 'https://www.autoscout24.com/lst/land-rover/defender?atype=C&cy=D%2CA%2CB%2CE%2CF%2CI%2CL%2CNL&damaged_listing=exclude&desc=0&page=9&powertype=kw&search_id=2gn5j092pnr&sort=standard&source=listpage_pagination&ustate=N%2CU', 'https://www.autoscout24.com/lst/land-rover/defender?atype=C&cy=D%2CA%2CB%2CE%2CF%2CI%2CL%2CNL&damaged_listing=exclude&desc=0&page=10&powertype=kw&search_id=2gn5j092pnr&sort=standard&source=listpage_pagination&ustate=N%2CU', 'https://www.autoscout24.com/lst/land-rover/defender?atype=C&cy=D%2CA%2CB%2CE%2CF%2CI%2CL%2CNL&damaged_listing=exclude&desc=0&page=11&powertype=kw&search_id=2gn5j092pnr&sort=standard&source=listpage_pagination&ustate=N%2CU', 'https://www.autoscout24.com/lst/land-rover/defender?atype=C&cy=D%2CA%2CB%2CE%2CF%2CI%2CL%2CNL&damaged_listing=exclude&desc=0&page=12&powertype=kw&search_id=2gn5j092pnr&sort=standard&source=listpage_pagination&ustate=N%2CU', 'https://www.autoscout24.com/lst/land-rover/defender?atype=C&cy=D%2CA%2CB%2CE%2CF%2CI%2CL%2CNL&damaged_listing=exclude&desc=0&page=13&powertype=kw&search_id=2gn5j092pnr&sort=standard&source=listpage_pagination&ustate=N%2CU', 'https://www.autoscout24.com/lst/land-rover/defender?atype=C&cy=D%2CA%2CB%2CE%2CF%2CI%2CL%2CNL&damaged_listing=exclude&desc=0&page=14&powertype=kw&search_id=2gn5j092pnr&sort=standard&source=listpage_pagination&ustate=N%2CU', 'https://www.autoscout24.com/lst/land-rover/defender?atype=C&cy=D%2CA%2CB%2CE%2CF%2CI%2CL%2CNL&damaged_listing=exclude&desc=0&page=15&powertype=kw&search_id=2gn5j092pnr&sort=standard&source=listpage_pagination&ustate=N%2CU', 'https://www.autoscout24.com/lst/land-rover/defender?atype=C&cy=D%2CA%2CB%2CE%2CF%2CI%2CL%2CNL&damaged_listing=exclude&desc=0&page=16&powertype=kw&search_id=2gn5j092pnr&sort=standard&source=listpage_pagination&ustate=N%2CU', 'https://www.autoscout24.com/lst/land-rover/defender?atype=C&cy=D%2CA%2CB%2CE%2CF%2CI%2CL%2CNL&damaged_listing=exclude&desc=0&page=17&powertype=kw&search_id=2gn5j092pnr&sort=standard&source=listpage_pagination&ustate=N%2CU', 'https://www.autoscout24.com/lst/land-rover/defender?atype=C&cy=D%2CA%2CB%2CE%2CF%2CI%2CL%2CNL&damaged_listing=exclude&desc=0&page=18&powertype=kw&search_id=2gn5j092pnr&sort=standard&source=listpage_pagination&ustate=N%2CU', 'https://www.autoscout24.com/lst/land-rover/defender?atype=C&cy=D%2CA%2CB%2CE%2CF%2CI%2CL%2CNL&damaged_listing=exclude&desc=0&page=19&powertype=kw&search_id=2gn5j092pnr&sort=standard&source=listpage_pagination&ustate=N%2CU', 'https://www.autoscout24.com/lst/land-rover/defender?atype=C&cy=D%2CA%2CB%2CE%2CF%2CI%2CL%2CNL&damaged_listing=exclude&desc=0&page=20&powertype=kw&search_id=2gn5j092pnr&sort=standard&source=listpage_pagination&ustate=N%2CU']\n"
     ]
    }
   ],
   "source": [
    "def gerar_links_base(prefixo, sufixo, num_iteracoes, final_url):\n",
    "    links = []\n",
    "\n",
    "    for i in range(1, num_iteracoes + 1):\n",
    "        link = f\"{prefixo}{i}{sufixo}{final_url}\"\n",
    "        links.append(link)\n",
    "\n",
    "    return links\n",
    "\n",
    "# construindo o link:\n",
    "prefixo = \"https://www.autoscout24.com/lst/land-rover/defender?atype=C&cy=D%2CA%2CB%2CE%2CF%2CI%2CL%2CNL&damaged_listing=exclude&desc=0&page=\"\n",
    "sufixo = \"\"\n",
    "num_iteracoes = 20\n",
    "final_url = \"&powertype=kw&search_id=2gn5j092pnr&sort=standard&source=listpage_pagination&ustate=N%2CU\"\n",
    "            \n",
    "\n",
    "links_gerados = gerar_links_base(prefixo, sufixo, num_iteracoes, final_url)\n",
    "print(links_gerados)"
   ]
  },
  {
   "cell_type": "markdown",
   "id": "a53ddb98-db88-4c1e-887f-eb60931fe111",
   "metadata": {},
   "source": [
    "## Acessando os produtos e construindo a tabela\n"
   ]
  },
  {
   "cell_type": "code",
   "execution_count": 5,
   "id": "e4cbb121-3356-4353-a89d-ec472f2d9335",
   "metadata": {},
   "outputs": [],
   "source": [
    "# Teste dois\n",
    "for link in links_gerados:\n",
    "    #print(link)\n",
    "    headers = {'User-Agent': 'Mozilla/5.0 (Macintosh; Intel Mac OS X 10_11_5)AppleWebKit/537.36 (KHTML, like Gecko) Chrome/50.0.2661.102 Safari/537.36'}\n",
    "    page = requests.get( link )\n",
    "\n",
    "    #Salvando o objeto\n",
    "    content = page.content\n",
    "    #url_final = []\n",
    "    \n",
    "    #Convertendo para um objeto do tipo BeautifulSoup\n",
    "    soup = BeautifulSoup(content, 'html.parser')\n",
    "\n",
    "    # Beautiful Soup object\n",
    "    soup = BeautifulSoup( page.text, 'html.parser' )\n",
    "\n",
    "    add = soup.find_all('article', re.compile('cldt-summary-full-item'))\n",
    "     #Seller/Location\n",
    "    seller_detail = soup.find('div', attrs={'class':re.compile('SellerInfo')})\n",
    "    seller = seller_detail.find('span', attrs={'class':re.compile('SellerInfo_name')}).get_text().strip()\n",
    "    endereco = seller_detail.find('span', attrs={'class':re.compile('SellerInfo_address')}).get_text().strip()\n",
    "        \n",
    "      \n",
    "    for ads in add:\n",
    "        #auto = soup.find('a', attrs={'class':re.compile('ListItem_title')}).get_text().strip()\n",
    "        id_ads = ads['id']\n",
    "        manufacturer_by = ads['data-make']\n",
    "        model = ads['data-model']\n",
    "        km = ads['data-mileage']\n",
    "        year = ads['data-first-registration']\n",
    "        price = ads['data-price']\n",
    "        version = ads.find('span', attrs={'class': re.compile(\"ListItem_version\")}).getText()\n",
    "        description_car = ads.find('div', attrs={'class': re.compile(\"ListItem_wrapper\")}).getText()\n",
    "        \n",
    "        list_auto.append([id_ads, manufacturer_by, model, version, km, year, price, seller, endereco])\n",
    "        \n",
    "        df = pd.DataFrame(list_auto, columns=['id_ads', 'manufacturer_by', 'model', 'version',\n",
    "                                              'km', 'year', 'price', 'seller',\n",
    "                                              'endereco']).reset_index(drop=True)\n",
    "        df['scrapy_datetime'] = datetime.now().strftime('%Y-%m-%d %H:%M:%S')\n",
    "        \n",
    "\n",
    "        "
   ]
  },
  {
   "cell_type": "markdown",
   "id": "e64a2556-dd25-4c8a-8ccc-81a19d47b8b2",
   "metadata": {},
   "source": [
    "## Armazenando os dados\n",
    "\n",
    "→ Ao rodar este codeigo no inicio do mês, a tabela original será substituida. Para que isso não ocorra, deve-se alterar o nome do arquivo atual para outro."
   ]
  },
  {
   "cell_type": "code",
   "execution_count": 6,
   "id": "7b3fef8a-0844-4d2d-8510-8af3196195a0",
   "metadata": {},
   "outputs": [
    {
     "name": "stdout",
     "output_type": "stream",
     "text": [
      "395\n"
     ]
    }
   ],
   "source": [
    "rows = df.shape[0]\n",
    "print(rows)\n",
    "\n",
    "# Salve a tabela concatenada no novo arquivo\n",
    "df.to_csv('../dataset/list_auto.csv', encoding='utf-8', sep=';' ,index=False)\n"
   ]
  }
 ],
 "metadata": {
  "kernelspec": {
   "display_name": "ws_scout",
   "language": "python",
   "name": "python3"
  },
  "language_info": {
   "codemirror_mode": {
    "name": "ipython",
    "version": 3
   },
   "file_extension": ".py",
   "mimetype": "text/x-python",
   "name": "python",
   "nbconvert_exporter": "python",
   "pygments_lexer": "ipython3",
   "version": "3.11.0"
  }
 },
 "nbformat": 4,
 "nbformat_minor": 5
}
