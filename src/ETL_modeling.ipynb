{
 "cells": [
  {
   "cell_type": "markdown",
   "id": "1981758f-1503-4bb0-9e74-1d453eef207c",
   "metadata": {},
   "source": [
    "# Import"
   ]
  },
  {
   "cell_type": "code",
   "execution_count": 1,
   "id": "11cd53b7-6c82-41d2-9428-93f55331f6ac",
   "metadata": {},
   "outputs": [],
   "source": [
    "import re\n",
    "import pandas        as pd\n",
    "import numpy         as np"
   ]
  },
  {
   "cell_type": "markdown",
   "id": "07a59e4a-337d-4d94-86c9-d132da51fbb1",
   "metadata": {},
   "source": [
    "# Load DataSet"
   ]
  },
  {
   "cell_type": "code",
   "execution_count": 2,
   "id": "e3ff90df-0dd5-48ad-af84-2bd22de7903b",
   "metadata": {},
   "outputs": [],
   "source": [
    "df = pd.read_csv('../dataset/df_final.csv', encoding='utf-8', sep=';')\n"
   ]
  },
  {
   "cell_type": "code",
   "execution_count": 3,
   "id": "adf108f9-b46c-4b55-8f15-8aa82fbc3b63",
   "metadata": {},
   "outputs": [
    {
     "data": {
      "text/html": [
       "<div>\n",
       "<style scoped>\n",
       "    .dataframe tbody tr th:only-of-type {\n",
       "        vertical-align: middle;\n",
       "    }\n",
       "\n",
       "    .dataframe tbody tr th {\n",
       "        vertical-align: top;\n",
       "    }\n",
       "\n",
       "    .dataframe thead th {\n",
       "        text-align: right;\n",
       "    }\n",
       "</style>\n",
       "<table border=\"1\" class=\"dataframe\">\n",
       "  <thead>\n",
       "    <tr style=\"text-align: right;\">\n",
       "      <th></th>\n",
       "      <th>Unnamed: 0</th>\n",
       "      <th>id_ads</th>\n",
       "      <th>manufacturer_by</th>\n",
       "      <th>model</th>\n",
       "      <th>version</th>\n",
       "      <th>km</th>\n",
       "      <th>year</th>\n",
       "      <th>price</th>\n",
       "      <th>seller</th>\n",
       "      <th>endereco</th>\n",
       "      <th>scrapy_datetime</th>\n",
       "      <th>zip_code</th>\n",
       "      <th>country</th>\n",
       "    </tr>\n",
       "  </thead>\n",
       "  <tbody>\n",
       "    <tr>\n",
       "      <th>0</th>\n",
       "      <td>0</td>\n",
       "      <td>7fd72920-850d-43ba-a452-cbae1a6398da</td>\n",
       "      <td>land rover</td>\n",
       "      <td>DEFENDER 110</td>\n",
       "      <td>SW SE</td>\n",
       "      <td>81000</td>\n",
       "      <td>2015</td>\n",
       "      <td>38000</td>\n",
       "      <td>AUTOMOVILES MARTIN</td>\n",
       "      <td>Contáctanos en: • ES-14440 VILLANUEVA DE CÓRDOBA</td>\n",
       "      <td>2023-10-19 12:22:03</td>\n",
       "      <td>14440</td>\n",
       "      <td>ES</td>\n",
       "    </tr>\n",
       "    <tr>\n",
       "      <th>1</th>\n",
       "      <td>1</td>\n",
       "      <td>840de0a3-82a9-454c-a725-508e211af7de</td>\n",
       "      <td>land rover</td>\n",
       "      <td>DEFENDER 90</td>\n",
       "      <td>td5</td>\n",
       "      <td>147000</td>\n",
       "      <td>1999</td>\n",
       "      <td>24900</td>\n",
       "      <td>AUTOMOVILES MARTIN</td>\n",
       "      <td>Contáctanos en: • ES-14440 VILLANUEVA DE CÓRDOBA</td>\n",
       "      <td>2023-10-19 12:22:03</td>\n",
       "      <td>14440</td>\n",
       "      <td>ES</td>\n",
       "    </tr>\n",
       "    <tr>\n",
       "      <th>2</th>\n",
       "      <td>2</td>\n",
       "      <td>6611c967-ab67-4db5-b28f-37b77fcd332f</td>\n",
       "      <td>land rover</td>\n",
       "      <td>DEFENDER 110</td>\n",
       "      <td>SW</td>\n",
       "      <td>79000</td>\n",
       "      <td>2013</td>\n",
       "      <td>39900</td>\n",
       "      <td>AUTOMOVILES MARTIN</td>\n",
       "      <td>Contáctanos en: • ES-14440 VILLANUEVA DE CÓRDOBA</td>\n",
       "      <td>2023-10-19 12:22:03</td>\n",
       "      <td>14440</td>\n",
       "      <td>ES</td>\n",
       "    </tr>\n",
       "    <tr>\n",
       "      <th>3</th>\n",
       "      <td>3</td>\n",
       "      <td>7484ee53-ebc5-4510-8bf9-032e657837cf</td>\n",
       "      <td>land rover</td>\n",
       "      <td>DEFENDER 110</td>\n",
       "      <td>SW</td>\n",
       "      <td>78000</td>\n",
       "      <td>2012</td>\n",
       "      <td>39500</td>\n",
       "      <td>AUTOMOVILES MARTIN</td>\n",
       "      <td>Contáctanos en: • ES-14440 VILLANUEVA DE CÓRDOBA</td>\n",
       "      <td>2023-10-19 12:22:03</td>\n",
       "      <td>14440</td>\n",
       "      <td>ES</td>\n",
       "    </tr>\n",
       "    <tr>\n",
       "      <th>4</th>\n",
       "      <td>4</td>\n",
       "      <td>08c56b66-b680-4f5c-b63a-33ce190b65eb</td>\n",
       "      <td>land rover</td>\n",
       "      <td>DEFENDER 110</td>\n",
       "      <td>SW SE</td>\n",
       "      <td>52000</td>\n",
       "      <td>2014</td>\n",
       "      <td>42600</td>\n",
       "      <td>AUTOMOVILES MARTIN</td>\n",
       "      <td>Contáctanos en: • ES-14440 VILLANUEVA DE CÓRDOBA</td>\n",
       "      <td>2023-10-19 12:22:03</td>\n",
       "      <td>14440</td>\n",
       "      <td>ES</td>\n",
       "    </tr>\n",
       "  </tbody>\n",
       "</table>\n",
       "</div>"
      ],
      "text/plain": [
       "   Unnamed: 0                                id_ads manufacturer_by  \\\n",
       "0           0  7fd72920-850d-43ba-a452-cbae1a6398da      land rover   \n",
       "1           1  840de0a3-82a9-454c-a725-508e211af7de      land rover   \n",
       "2           2  6611c967-ab67-4db5-b28f-37b77fcd332f      land rover   \n",
       "3           3  7484ee53-ebc5-4510-8bf9-032e657837cf      land rover   \n",
       "4           4  08c56b66-b680-4f5c-b63a-33ce190b65eb      land rover   \n",
       "\n",
       "          model  version      km  year  price              seller  \\\n",
       "0  DEFENDER 110   SW SE    81000  2015  38000  AUTOMOVILES MARTIN   \n",
       "1   DEFENDER 90    td5    147000  1999  24900  AUTOMOVILES MARTIN   \n",
       "2  DEFENDER 110      SW    79000  2013  39900  AUTOMOVILES MARTIN   \n",
       "3  DEFENDER 110      SW    78000  2012  39500  AUTOMOVILES MARTIN   \n",
       "4  DEFENDER 110   SW SE    52000  2014  42600  AUTOMOVILES MARTIN   \n",
       "\n",
       "                                           endereco      scrapy_datetime  \\\n",
       "0  Contáctanos en: • ES-14440 VILLANUEVA DE CÓRDOBA  2023-10-19 12:22:03   \n",
       "1  Contáctanos en: • ES-14440 VILLANUEVA DE CÓRDOBA  2023-10-19 12:22:03   \n",
       "2  Contáctanos en: • ES-14440 VILLANUEVA DE CÓRDOBA  2023-10-19 12:22:03   \n",
       "3  Contáctanos en: • ES-14440 VILLANUEVA DE CÓRDOBA  2023-10-19 12:22:03   \n",
       "4  Contáctanos en: • ES-14440 VILLANUEVA DE CÓRDOBA  2023-10-19 12:22:03   \n",
       "\n",
       "   zip_code country  \n",
       "0     14440      ES  \n",
       "1     14440      ES  \n",
       "2     14440      ES  \n",
       "3     14440      ES  \n",
       "4     14440      ES  "
      ]
     },
     "execution_count": 3,
     "metadata": {},
     "output_type": "execute_result"
    }
   ],
   "source": [
    "df.head()"
   ]
  },
  {
   "cell_type": "markdown",
   "id": "23fd7752",
   "metadata": {},
   "source": [
    "## 01 - Elimando Colunas desnecessarias"
   ]
  },
  {
   "cell_type": "code",
   "execution_count": 4,
   "id": "2589ad2b-f556-4ecd-9117-e0205d146654",
   "metadata": {},
   "outputs": [],
   "source": [
    "df_01 = df.copy()"
   ]
  },
  {
   "cell_type": "code",
   "execution_count": 5,
   "id": "eb93e032",
   "metadata": {},
   "outputs": [],
   "source": [
    "df_01 = df_01.drop('Unnamed: 0', axis=1)\n",
    "#df = df.drop('coluna_indesejada', axis=1)\n"
   ]
  },
  {
   "cell_type": "code",
   "execution_count": 6,
   "id": "71fd466f",
   "metadata": {},
   "outputs": [
    {
     "data": {
      "text/html": [
       "<div>\n",
       "<style scoped>\n",
       "    .dataframe tbody tr th:only-of-type {\n",
       "        vertical-align: middle;\n",
       "    }\n",
       "\n",
       "    .dataframe tbody tr th {\n",
       "        vertical-align: top;\n",
       "    }\n",
       "\n",
       "    .dataframe thead th {\n",
       "        text-align: right;\n",
       "    }\n",
       "</style>\n",
       "<table border=\"1\" class=\"dataframe\">\n",
       "  <thead>\n",
       "    <tr style=\"text-align: right;\">\n",
       "      <th></th>\n",
       "      <th>id_ads</th>\n",
       "      <th>manufacturer_by</th>\n",
       "      <th>model</th>\n",
       "      <th>version</th>\n",
       "      <th>km</th>\n",
       "      <th>year</th>\n",
       "      <th>price</th>\n",
       "      <th>seller</th>\n",
       "      <th>endereco</th>\n",
       "      <th>scrapy_datetime</th>\n",
       "      <th>zip_code</th>\n",
       "      <th>country</th>\n",
       "    </tr>\n",
       "  </thead>\n",
       "  <tbody>\n",
       "    <tr>\n",
       "      <th>0</th>\n",
       "      <td>7fd72920-850d-43ba-a452-cbae1a6398da</td>\n",
       "      <td>land rover</td>\n",
       "      <td>DEFENDER 110</td>\n",
       "      <td>SW SE</td>\n",
       "      <td>81000</td>\n",
       "      <td>2015</td>\n",
       "      <td>38000</td>\n",
       "      <td>AUTOMOVILES MARTIN</td>\n",
       "      <td>Contáctanos en: • ES-14440 VILLANUEVA DE CÓRDOBA</td>\n",
       "      <td>2023-10-19 12:22:03</td>\n",
       "      <td>14440</td>\n",
       "      <td>ES</td>\n",
       "    </tr>\n",
       "  </tbody>\n",
       "</table>\n",
       "</div>"
      ],
      "text/plain": [
       "                                 id_ads manufacturer_by         model  \\\n",
       "0  7fd72920-850d-43ba-a452-cbae1a6398da      land rover  DEFENDER 110   \n",
       "\n",
       "   version     km  year  price              seller  \\\n",
       "0   SW SE   81000  2015  38000  AUTOMOVILES MARTIN   \n",
       "\n",
       "                                           endereco      scrapy_datetime  \\\n",
       "0  Contáctanos en: • ES-14440 VILLANUEVA DE CÓRDOBA  2023-10-19 12:22:03   \n",
       "\n",
       "   zip_code country  \n",
       "0     14440      ES  "
      ]
     },
     "execution_count": 6,
     "metadata": {},
     "output_type": "execute_result"
    }
   ],
   "source": [
    "df_01.head(1)"
   ]
  },
  {
   "cell_type": "markdown",
   "id": "e98b25ff",
   "metadata": {},
   "source": [
    "## Criando Coluna de Historico de nao venda\n"
   ]
  },
  {
   "cell_type": "code",
   "execution_count": 33,
   "id": "e0eceb78",
   "metadata": {},
   "outputs": [],
   "source": [
    "df_02 = df_01.copy()"
   ]
  },
  {
   "cell_type": "code",
   "execution_count": 34,
   "id": "323e70d2",
   "metadata": {},
   "outputs": [],
   "source": [
    "# Crie um dicionário de valores únicos em 'Valor_a_Contar' e suas contagens\n",
    "count_id_ads = df_02['id_ads'].value_counts().to_dict()\n",
    "\n",
    "# Crie uma nova coluna 'Soma_Ocorrencias' com base nas contagens\n",
    "df_02['count_id'] = df_02['id_ads'].map(count_id_ads)\n"
   ]
  },
  {
   "cell_type": "code",
   "execution_count": 35,
   "id": "b46855c9",
   "metadata": {},
   "outputs": [
    {
     "data": {
      "text/html": [
       "<div>\n",
       "<style scoped>\n",
       "    .dataframe tbody tr th:only-of-type {\n",
       "        vertical-align: middle;\n",
       "    }\n",
       "\n",
       "    .dataframe tbody tr th {\n",
       "        vertical-align: top;\n",
       "    }\n",
       "\n",
       "    .dataframe thead th {\n",
       "        text-align: right;\n",
       "    }\n",
       "</style>\n",
       "<table border=\"1\" class=\"dataframe\">\n",
       "  <thead>\n",
       "    <tr style=\"text-align: right;\">\n",
       "      <th></th>\n",
       "      <th>id_ads</th>\n",
       "      <th>manufacturer_by</th>\n",
       "      <th>model</th>\n",
       "      <th>version</th>\n",
       "      <th>km</th>\n",
       "      <th>year</th>\n",
       "      <th>price</th>\n",
       "      <th>seller</th>\n",
       "      <th>endereco</th>\n",
       "      <th>scrapy_datetime</th>\n",
       "      <th>zip_code</th>\n",
       "      <th>country</th>\n",
       "      <th>count_id</th>\n",
       "    </tr>\n",
       "  </thead>\n",
       "  <tbody>\n",
       "    <tr>\n",
       "      <th>0</th>\n",
       "      <td>7fd72920-850d-43ba-a452-cbae1a6398da</td>\n",
       "      <td>land rover</td>\n",
       "      <td>DEFENDER 110</td>\n",
       "      <td>SW SE</td>\n",
       "      <td>81000</td>\n",
       "      <td>2015</td>\n",
       "      <td>38000</td>\n",
       "      <td>AUTOMOVILES MARTIN</td>\n",
       "      <td>Contáctanos en: • ES-14440 VILLANUEVA DE CÓRDOBA</td>\n",
       "      <td>2023-10-19 12:22:03</td>\n",
       "      <td>14440</td>\n",
       "      <td>ES</td>\n",
       "      <td>2</td>\n",
       "    </tr>\n",
       "    <tr>\n",
       "      <th>1</th>\n",
       "      <td>840de0a3-82a9-454c-a725-508e211af7de</td>\n",
       "      <td>land rover</td>\n",
       "      <td>DEFENDER 90</td>\n",
       "      <td>td5</td>\n",
       "      <td>147000</td>\n",
       "      <td>1999</td>\n",
       "      <td>24900</td>\n",
       "      <td>AUTOMOVILES MARTIN</td>\n",
       "      <td>Contáctanos en: • ES-14440 VILLANUEVA DE CÓRDOBA</td>\n",
       "      <td>2023-10-19 12:22:03</td>\n",
       "      <td>14440</td>\n",
       "      <td>ES</td>\n",
       "      <td>2</td>\n",
       "    </tr>\n",
       "    <tr>\n",
       "      <th>2</th>\n",
       "      <td>6611c967-ab67-4db5-b28f-37b77fcd332f</td>\n",
       "      <td>land rover</td>\n",
       "      <td>DEFENDER 110</td>\n",
       "      <td>SW</td>\n",
       "      <td>79000</td>\n",
       "      <td>2013</td>\n",
       "      <td>39900</td>\n",
       "      <td>AUTOMOVILES MARTIN</td>\n",
       "      <td>Contáctanos en: • ES-14440 VILLANUEVA DE CÓRDOBA</td>\n",
       "      <td>2023-10-19 12:22:03</td>\n",
       "      <td>14440</td>\n",
       "      <td>ES</td>\n",
       "      <td>2</td>\n",
       "    </tr>\n",
       "  </tbody>\n",
       "</table>\n",
       "</div>"
      ],
      "text/plain": [
       "                                 id_ads manufacturer_by         model  \\\n",
       "0  7fd72920-850d-43ba-a452-cbae1a6398da      land rover  DEFENDER 110   \n",
       "1  840de0a3-82a9-454c-a725-508e211af7de      land rover   DEFENDER 90   \n",
       "2  6611c967-ab67-4db5-b28f-37b77fcd332f      land rover  DEFENDER 110   \n",
       "\n",
       "   version      km  year  price              seller  \\\n",
       "0   SW SE    81000  2015  38000  AUTOMOVILES MARTIN   \n",
       "1    td5    147000  1999  24900  AUTOMOVILES MARTIN   \n",
       "2      SW    79000  2013  39900  AUTOMOVILES MARTIN   \n",
       "\n",
       "                                           endereco      scrapy_datetime  \\\n",
       "0  Contáctanos en: • ES-14440 VILLANUEVA DE CÓRDOBA  2023-10-19 12:22:03   \n",
       "1  Contáctanos en: • ES-14440 VILLANUEVA DE CÓRDOBA  2023-10-19 12:22:03   \n",
       "2  Contáctanos en: • ES-14440 VILLANUEVA DE CÓRDOBA  2023-10-19 12:22:03   \n",
       "\n",
       "   zip_code country  count_id  \n",
       "0     14440      ES         2  \n",
       "1     14440      ES         2  \n",
       "2     14440      ES         2  "
      ]
     },
     "execution_count": 35,
     "metadata": {},
     "output_type": "execute_result"
    }
   ],
   "source": [
    "df_02.head(3)"
   ]
  },
  {
   "cell_type": "markdown",
   "id": "b367edd1",
   "metadata": {},
   "source": [
    "## 03 - Criando Coluna Data Hoje"
   ]
  },
  {
   "cell_type": "code",
   "execution_count": 36,
   "id": "5edc433d",
   "metadata": {},
   "outputs": [],
   "source": [
    "df_03 = df_02.copy()"
   ]
  },
  {
   "cell_type": "code",
   "execution_count": null,
   "id": "45b1b028",
   "metadata": {},
   "outputs": [],
   "source": [
    "df['scrapy_datetime'] = datetime.now().strftime('%Y-%m-%d %H:%M:%S')"
   ]
  },
  {
   "cell_type": "code",
   "execution_count": null,
   "id": "267f5bc5",
   "metadata": {},
   "outputs": [],
   "source": [
    "import pandas as pd\n",
    "from datetime import datetime\n",
    "\n",
    "# Suponha que a data do web scraping seja a seguinte (você pode obtê-la da maneira que desejar)\n",
    "data_scraping = datetime(2023, 10, 30)\n",
    "\n",
    "# Exemplo de DataFrame\n",
    "data = {'Data': [datetime(2023, 10, 28), datetime(2023, 10, 29), datetime(2023, 10, 30), datetime(2023, 10, 31)],\n",
    "        'Coluna1': [1, 2, 3, 2],\n",
    "        'Coluna2': ['A', 'B', 'A', 'C']}\n",
    "\n",
    "df = pd.DataFrame(data)\n",
    "\n",
    "# Selecione apenas as linhas onde Coluna1 >= 2 e Coluna2 ocorre mais de uma vez\n",
    "condicao = (df['Coluna1'] >= 2) & df['Coluna2'].duplicated(keep=False)\n",
    "\n",
    "# Filtrar as linhas que atendem à condição\n",
    "df_filtrado = df[condicao]\n",
    "\n",
    "# Calcular a diferença em dias\n",
    "df_filtrado['Dias_Passados'] = (data_scraping - df_filtrado['Data']).dt.days\n",
    "\n",
    "print(df_filtrado)\n"
   ]
  },
  {
   "cell_type": "code",
   "execution_count": null,
   "id": "42d85826",
   "metadata": {},
   "outputs": [],
   "source": []
  },
  {
   "cell_type": "code",
   "execution_count": null,
   "id": "1e975405",
   "metadata": {},
   "outputs": [],
   "source": [
    "df_02 = df_02[df_02['count'] >= 2]\n",
    "df_02.head()"
   ]
  },
  {
   "cell_type": "code",
   "execution_count": 21,
   "id": "36a2f4ff",
   "metadata": {},
   "outputs": [
    {
     "name": "stdout",
     "output_type": "stream",
     "text": [
      "0\n"
     ]
    }
   ],
   "source": [
    "a = df_02['id_ads'].count()\n",
    "print(a)"
   ]
  },
  {
   "cell_type": "code",
   "execution_count": null,
   "id": "c8736e19",
   "metadata": {},
   "outputs": [],
   "source": []
  },
  {
   "cell_type": "code",
   "execution_count": null,
   "id": "68b3716c",
   "metadata": {},
   "outputs": [],
   "source": []
  },
  {
   "cell_type": "code",
   "execution_count": null,
   "id": "17595a61",
   "metadata": {},
   "outputs": [],
   "source": []
  },
  {
   "cell_type": "code",
   "execution_count": null,
   "id": "7b7d675d",
   "metadata": {},
   "outputs": [],
   "source": []
  },
  {
   "cell_type": "code",
   "execution_count": null,
   "id": "f9da915b",
   "metadata": {},
   "outputs": [],
   "source": []
  },
  {
   "cell_type": "code",
   "execution_count": null,
   "id": "71eba660",
   "metadata": {},
   "outputs": [],
   "source": []
  },
  {
   "cell_type": "markdown",
   "id": "acc67b72",
   "metadata": {},
   "source": [
    "## DataFrame Final"
   ]
  },
  {
   "cell_type": "code",
   "execution_count": 14,
   "id": "c8850055",
   "metadata": {},
   "outputs": [],
   "source": [
    "df_final = pd.DataFrame(df_clean[['id_ads', 'manufacturer_by', 'model', 'version', 'km', 'year',\n",
    "                                  'price', 'seller', 'endereco', 'scrapy_datetime', 'zip_code', 'country']])"
   ]
  },
  {
   "cell_type": "code",
   "execution_count": 15,
   "id": "cf3eca3b",
   "metadata": {},
   "outputs": [
    {
     "data": {
      "text/html": [
       "<div>\n",
       "<style scoped>\n",
       "    .dataframe tbody tr th:only-of-type {\n",
       "        vertical-align: middle;\n",
       "    }\n",
       "\n",
       "    .dataframe tbody tr th {\n",
       "        vertical-align: top;\n",
       "    }\n",
       "\n",
       "    .dataframe thead th {\n",
       "        text-align: right;\n",
       "    }\n",
       "</style>\n",
       "<table border=\"1\" class=\"dataframe\">\n",
       "  <thead>\n",
       "    <tr style=\"text-align: right;\">\n",
       "      <th></th>\n",
       "      <th>id_ads</th>\n",
       "      <th>manufacturer_by</th>\n",
       "      <th>model</th>\n",
       "      <th>version</th>\n",
       "      <th>km</th>\n",
       "      <th>year</th>\n",
       "      <th>price</th>\n",
       "      <th>seller</th>\n",
       "      <th>endereco</th>\n",
       "      <th>scrapy_datetime</th>\n",
       "      <th>zip_code</th>\n",
       "      <th>country</th>\n",
       "    </tr>\n",
       "  </thead>\n",
       "  <tbody>\n",
       "    <tr>\n",
       "      <th>0</th>\n",
       "      <td>7fd72920-850d-43ba-a452-cbae1a6398da</td>\n",
       "      <td>land rover</td>\n",
       "      <td>DEFENDER 110</td>\n",
       "      <td>SW SE</td>\n",
       "      <td>81000</td>\n",
       "      <td>2015</td>\n",
       "      <td>38000</td>\n",
       "      <td>AUTOMOVILES MARTIN</td>\n",
       "      <td>Contáctanos en: • ES-14440 VILLANUEVA DE CÓRDOBA</td>\n",
       "      <td>2023-10-19 12:22:03</td>\n",
       "      <td>14440</td>\n",
       "      <td>ES</td>\n",
       "    </tr>\n",
       "    <tr>\n",
       "      <th>1</th>\n",
       "      <td>840de0a3-82a9-454c-a725-508e211af7de</td>\n",
       "      <td>land rover</td>\n",
       "      <td>DEFENDER 90</td>\n",
       "      <td>td5</td>\n",
       "      <td>147000</td>\n",
       "      <td>1999</td>\n",
       "      <td>24900</td>\n",
       "      <td>AUTOMOVILES MARTIN</td>\n",
       "      <td>Contáctanos en: • ES-14440 VILLANUEVA DE CÓRDOBA</td>\n",
       "      <td>2023-10-19 12:22:03</td>\n",
       "      <td>14440</td>\n",
       "      <td>ES</td>\n",
       "    </tr>\n",
       "    <tr>\n",
       "      <th>2</th>\n",
       "      <td>6611c967-ab67-4db5-b28f-37b77fcd332f</td>\n",
       "      <td>land rover</td>\n",
       "      <td>DEFENDER 110</td>\n",
       "      <td>SW</td>\n",
       "      <td>79000</td>\n",
       "      <td>2013</td>\n",
       "      <td>39900</td>\n",
       "      <td>AUTOMOVILES MARTIN</td>\n",
       "      <td>Contáctanos en: • ES-14440 VILLANUEVA DE CÓRDOBA</td>\n",
       "      <td>2023-10-19 12:22:03</td>\n",
       "      <td>14440</td>\n",
       "      <td>ES</td>\n",
       "    </tr>\n",
       "    <tr>\n",
       "      <th>3</th>\n",
       "      <td>7484ee53-ebc5-4510-8bf9-032e657837cf</td>\n",
       "      <td>land rover</td>\n",
       "      <td>DEFENDER 110</td>\n",
       "      <td>SW</td>\n",
       "      <td>78000</td>\n",
       "      <td>2012</td>\n",
       "      <td>39500</td>\n",
       "      <td>AUTOMOVILES MARTIN</td>\n",
       "      <td>Contáctanos en: • ES-14440 VILLANUEVA DE CÓRDOBA</td>\n",
       "      <td>2023-10-19 12:22:03</td>\n",
       "      <td>14440</td>\n",
       "      <td>ES</td>\n",
       "    </tr>\n",
       "    <tr>\n",
       "      <th>4</th>\n",
       "      <td>08c56b66-b680-4f5c-b63a-33ce190b65eb</td>\n",
       "      <td>land rover</td>\n",
       "      <td>DEFENDER 110</td>\n",
       "      <td>SW SE</td>\n",
       "      <td>52000</td>\n",
       "      <td>2014</td>\n",
       "      <td>42600</td>\n",
       "      <td>AUTOMOVILES MARTIN</td>\n",
       "      <td>Contáctanos en: • ES-14440 VILLANUEVA DE CÓRDOBA</td>\n",
       "      <td>2023-10-19 12:22:03</td>\n",
       "      <td>14440</td>\n",
       "      <td>ES</td>\n",
       "    </tr>\n",
       "  </tbody>\n",
       "</table>\n",
       "</div>"
      ],
      "text/plain": [
       "                                 id_ads manufacturer_by         model  \\\n",
       "0  7fd72920-850d-43ba-a452-cbae1a6398da      land rover  DEFENDER 110   \n",
       "1  840de0a3-82a9-454c-a725-508e211af7de      land rover   DEFENDER 90   \n",
       "2  6611c967-ab67-4db5-b28f-37b77fcd332f      land rover  DEFENDER 110   \n",
       "3  7484ee53-ebc5-4510-8bf9-032e657837cf      land rover  DEFENDER 110   \n",
       "4  08c56b66-b680-4f5c-b63a-33ce190b65eb      land rover  DEFENDER 110   \n",
       "\n",
       "   version      km  year  price              seller  \\\n",
       "0   SW SE    81000  2015  38000  AUTOMOVILES MARTIN   \n",
       "1    td5    147000  1999  24900  AUTOMOVILES MARTIN   \n",
       "2      SW    79000  2013  39900  AUTOMOVILES MARTIN   \n",
       "3      SW    78000  2012  39500  AUTOMOVILES MARTIN   \n",
       "4   SW SE    52000  2014  42600  AUTOMOVILES MARTIN   \n",
       "\n",
       "                                           endereco      scrapy_datetime  \\\n",
       "0  Contáctanos en: • ES-14440 VILLANUEVA DE CÓRDOBA  2023-10-19 12:22:03   \n",
       "1  Contáctanos en: • ES-14440 VILLANUEVA DE CÓRDOBA  2023-10-19 12:22:03   \n",
       "2  Contáctanos en: • ES-14440 VILLANUEVA DE CÓRDOBA  2023-10-19 12:22:03   \n",
       "3  Contáctanos en: • ES-14440 VILLANUEVA DE CÓRDOBA  2023-10-19 12:22:03   \n",
       "4  Contáctanos en: • ES-14440 VILLANUEVA DE CÓRDOBA  2023-10-19 12:22:03   \n",
       "\n",
       "   zip_code country  \n",
       "0     14440      ES  \n",
       "1     14440      ES  \n",
       "2     14440      ES  \n",
       "3     14440      ES  \n",
       "4     14440      ES  "
      ]
     },
     "execution_count": 15,
     "metadata": {},
     "output_type": "execute_result"
    }
   ],
   "source": [
    "df_final.head()"
   ]
  },
  {
   "cell_type": "code",
   "execution_count": 19,
   "id": "a33f4a03",
   "metadata": {},
   "outputs": [
    {
     "data": {
      "text/html": [
       "<div>\n",
       "<style scoped>\n",
       "    .dataframe tbody tr th:only-of-type {\n",
       "        vertical-align: middle;\n",
       "    }\n",
       "\n",
       "    .dataframe tbody tr th {\n",
       "        vertical-align: top;\n",
       "    }\n",
       "\n",
       "    .dataframe thead th {\n",
       "        text-align: right;\n",
       "    }\n",
       "</style>\n",
       "<table border=\"1\" class=\"dataframe\">\n",
       "  <thead>\n",
       "    <tr style=\"text-align: right;\">\n",
       "      <th></th>\n",
       "      <th>id_ads</th>\n",
       "      <th>manufacturer_by</th>\n",
       "      <th>model</th>\n",
       "      <th>version</th>\n",
       "      <th>km</th>\n",
       "      <th>year</th>\n",
       "      <th>price</th>\n",
       "      <th>seller</th>\n",
       "      <th>endereco</th>\n",
       "      <th>scrapy_datetime</th>\n",
       "      <th>zip_code</th>\n",
       "      <th>country</th>\n",
       "      <th>count</th>\n",
       "    </tr>\n",
       "  </thead>\n",
       "  <tbody>\n",
       "  </tbody>\n",
       "</table>\n",
       "</div>"
      ],
      "text/plain": [
       "Empty DataFrame\n",
       "Columns: [id_ads, manufacturer_by, model, version, km, year, price, seller, endereco, scrapy_datetime, zip_code, country, count]\n",
       "Index: []"
      ]
     },
     "execution_count": 19,
     "metadata": {},
     "output_type": "execute_result"
    }
   ],
   "source": []
  },
  {
   "cell_type": "code",
   "execution_count": null,
   "id": "5712fb84",
   "metadata": {},
   "outputs": [],
   "source": []
  },
  {
   "cell_type": "code",
   "execution_count": null,
   "id": "ea8838de",
   "metadata": {},
   "outputs": [],
   "source": []
  },
  {
   "cell_type": "code",
   "execution_count": 16,
   "id": "3e9fec1a",
   "metadata": {},
   "outputs": [
    {
     "data": {
      "text/plain": [
       "id_ads             object\n",
       "manufacturer_by    object\n",
       "model              object\n",
       "version            object\n",
       "km                 object\n",
       "year                int32\n",
       "price               int64\n",
       "seller             object\n",
       "endereco           object\n",
       "scrapy_datetime    object\n",
       "zip_code            int64\n",
       "country            object\n",
       "dtype: object"
      ]
     },
     "execution_count": 16,
     "metadata": {},
     "output_type": "execute_result"
    }
   ],
   "source": [
    "df_final.dtypes"
   ]
  },
  {
   "cell_type": "markdown",
   "id": "979e8ed8",
   "metadata": {},
   "source": [
    "## Save the final dataset\n"
   ]
  },
  {
   "cell_type": "code",
   "execution_count": 17,
   "id": "ac00cb19",
   "metadata": {},
   "outputs": [
    {
     "name": "stdout",
     "output_type": "stream",
     "text": [
      "793\n"
     ]
    }
   ],
   "source": [
    "rows = df_final.shape[0]\n",
    "print(rows)\n",
    "df_final.to_csv('../dataset/df_final.csv', encoding='utf-8', sep=';')"
   ]
  },
  {
   "cell_type": "code",
   "execution_count": null,
   "id": "df6b6ea6",
   "metadata": {},
   "outputs": [],
   "source": []
  }
 ],
 "metadata": {
  "kernelspec": {
   "display_name": "ws_scout",
   "language": "python",
   "name": "python3"
  },
  "language_info": {
   "codemirror_mode": {
    "name": "ipython",
    "version": 3
   },
   "file_extension": ".py",
   "mimetype": "text/x-python",
   "name": "python",
   "nbconvert_exporter": "python",
   "pygments_lexer": "ipython3",
   "version": "3.11.0"
  }
 },
 "nbformat": 4,
 "nbformat_minor": 5
}
