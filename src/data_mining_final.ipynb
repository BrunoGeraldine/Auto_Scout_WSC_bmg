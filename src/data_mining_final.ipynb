{
 "cells": [
  {
   "cell_type": "markdown",
   "id": "1981758f-1503-4bb0-9e74-1d453eef207c",
   "metadata": {},
   "source": [
    "# Import"
   ]
  },
  {
   "cell_type": "code",
   "execution_count": 1,
   "id": "11cd53b7-6c82-41d2-9428-93f55331f6ac",
   "metadata": {},
   "outputs": [],
   "source": [
    "import re\n",
    "import requests\n",
    "import pandas        as pd\n",
    "\n",
    "from bs4             import BeautifulSoup\n",
    "from datetime        import datetime"
   ]
  },
  {
   "cell_type": "code",
   "execution_count": 2,
   "id": "cfb1f79a-4cf5-45ff-bfd6-55464fdabdd6",
   "metadata": {},
   "outputs": [],
   "source": [
    "list_auto = []"
   ]
  },
  {
   "cell_type": "markdown",
   "id": "5c303865-4059-4bbe-bb4a-3b382cccedf8",
   "metadata": {},
   "source": [
    "# API building"
   ]
  },
  {
   "cell_type": "code",
   "execution_count": 3,
   "id": "5469f130-d6c2-4984-a115-7b4fd9248244",
   "metadata": {},
   "outputs": [],
   "source": [
    "#Link do acesso\n",
    "url = requests.get(\"https://www.autoscout24.com/lst/land-rover?atype=C&desc=0&sort=standard&source=homepage_search-mask&ustate=N%2CU\")\n",
    "\n",
    "#Salvando o objeto\n",
    "content = url.content\n",
    "url_final = []\n",
    "\n",
    "#Convertendo para um objeto do tipo BeautifulSoup\n",
    "soup = BeautifulSoup(content, 'html.parser')\n",
    "\n",
    "list_auto = []"
   ]
  },
  {
   "cell_type": "markdown",
   "id": "2b5e6769-de34-4792-9089-90cff2ba1868",
   "metadata": {},
   "source": [
    "# Acessando todos os produtos"
   ]
  },
  {
   "cell_type": "code",
   "execution_count": 4,
   "id": "4d53b37f-a575-4c4e-b6f3-dd4d6c1fddca",
   "metadata": {},
   "outputs": [
    {
     "name": "stdout",
     "output_type": "stream",
     "text": [
      "['https://www.autoscout24.com/lst/land-rover/defender?atype=C&cy=D%2CA%2CB%2CE%2CF%2CI%2CL%2CNL&damaged_listing=exclude&desc=0&page=1&powertype=kw&search_id=2gn5j092pnr&sort=standard&source=listpage_pagination&ustate=N%2CU', 'https://www.autoscout24.com/lst/land-rover/defender?atype=C&cy=D%2CA%2CB%2CE%2CF%2CI%2CL%2CNL&damaged_listing=exclude&desc=0&page=2&powertype=kw&search_id=2gn5j092pnr&sort=standard&source=listpage_pagination&ustate=N%2CU', 'https://www.autoscout24.com/lst/land-rover/defender?atype=C&cy=D%2CA%2CB%2CE%2CF%2CI%2CL%2CNL&damaged_listing=exclude&desc=0&page=3&powertype=kw&search_id=2gn5j092pnr&sort=standard&source=listpage_pagination&ustate=N%2CU', 'https://www.autoscout24.com/lst/land-rover/defender?atype=C&cy=D%2CA%2CB%2CE%2CF%2CI%2CL%2CNL&damaged_listing=exclude&desc=0&page=4&powertype=kw&search_id=2gn5j092pnr&sort=standard&source=listpage_pagination&ustate=N%2CU', 'https://www.autoscout24.com/lst/land-rover/defender?atype=C&cy=D%2CA%2CB%2CE%2CF%2CI%2CL%2CNL&damaged_listing=exclude&desc=0&page=5&powertype=kw&search_id=2gn5j092pnr&sort=standard&source=listpage_pagination&ustate=N%2CU', 'https://www.autoscout24.com/lst/land-rover/defender?atype=C&cy=D%2CA%2CB%2CE%2CF%2CI%2CL%2CNL&damaged_listing=exclude&desc=0&page=6&powertype=kw&search_id=2gn5j092pnr&sort=standard&source=listpage_pagination&ustate=N%2CU', 'https://www.autoscout24.com/lst/land-rover/defender?atype=C&cy=D%2CA%2CB%2CE%2CF%2CI%2CL%2CNL&damaged_listing=exclude&desc=0&page=7&powertype=kw&search_id=2gn5j092pnr&sort=standard&source=listpage_pagination&ustate=N%2CU', 'https://www.autoscout24.com/lst/land-rover/defender?atype=C&cy=D%2CA%2CB%2CE%2CF%2CI%2CL%2CNL&damaged_listing=exclude&desc=0&page=8&powertype=kw&search_id=2gn5j092pnr&sort=standard&source=listpage_pagination&ustate=N%2CU', 'https://www.autoscout24.com/lst/land-rover/defender?atype=C&cy=D%2CA%2CB%2CE%2CF%2CI%2CL%2CNL&damaged_listing=exclude&desc=0&page=9&powertype=kw&search_id=2gn5j092pnr&sort=standard&source=listpage_pagination&ustate=N%2CU', 'https://www.autoscout24.com/lst/land-rover/defender?atype=C&cy=D%2CA%2CB%2CE%2CF%2CI%2CL%2CNL&damaged_listing=exclude&desc=0&page=10&powertype=kw&search_id=2gn5j092pnr&sort=standard&source=listpage_pagination&ustate=N%2CU', 'https://www.autoscout24.com/lst/land-rover/defender?atype=C&cy=D%2CA%2CB%2CE%2CF%2CI%2CL%2CNL&damaged_listing=exclude&desc=0&page=11&powertype=kw&search_id=2gn5j092pnr&sort=standard&source=listpage_pagination&ustate=N%2CU', 'https://www.autoscout24.com/lst/land-rover/defender?atype=C&cy=D%2CA%2CB%2CE%2CF%2CI%2CL%2CNL&damaged_listing=exclude&desc=0&page=12&powertype=kw&search_id=2gn5j092pnr&sort=standard&source=listpage_pagination&ustate=N%2CU', 'https://www.autoscout24.com/lst/land-rover/defender?atype=C&cy=D%2CA%2CB%2CE%2CF%2CI%2CL%2CNL&damaged_listing=exclude&desc=0&page=13&powertype=kw&search_id=2gn5j092pnr&sort=standard&source=listpage_pagination&ustate=N%2CU', 'https://www.autoscout24.com/lst/land-rover/defender?atype=C&cy=D%2CA%2CB%2CE%2CF%2CI%2CL%2CNL&damaged_listing=exclude&desc=0&page=14&powertype=kw&search_id=2gn5j092pnr&sort=standard&source=listpage_pagination&ustate=N%2CU', 'https://www.autoscout24.com/lst/land-rover/defender?atype=C&cy=D%2CA%2CB%2CE%2CF%2CI%2CL%2CNL&damaged_listing=exclude&desc=0&page=15&powertype=kw&search_id=2gn5j092pnr&sort=standard&source=listpage_pagination&ustate=N%2CU', 'https://www.autoscout24.com/lst/land-rover/defender?atype=C&cy=D%2CA%2CB%2CE%2CF%2CI%2CL%2CNL&damaged_listing=exclude&desc=0&page=16&powertype=kw&search_id=2gn5j092pnr&sort=standard&source=listpage_pagination&ustate=N%2CU', 'https://www.autoscout24.com/lst/land-rover/defender?atype=C&cy=D%2CA%2CB%2CE%2CF%2CI%2CL%2CNL&damaged_listing=exclude&desc=0&page=17&powertype=kw&search_id=2gn5j092pnr&sort=standard&source=listpage_pagination&ustate=N%2CU', 'https://www.autoscout24.com/lst/land-rover/defender?atype=C&cy=D%2CA%2CB%2CE%2CF%2CI%2CL%2CNL&damaged_listing=exclude&desc=0&page=18&powertype=kw&search_id=2gn5j092pnr&sort=standard&source=listpage_pagination&ustate=N%2CU', 'https://www.autoscout24.com/lst/land-rover/defender?atype=C&cy=D%2CA%2CB%2CE%2CF%2CI%2CL%2CNL&damaged_listing=exclude&desc=0&page=19&powertype=kw&search_id=2gn5j092pnr&sort=standard&source=listpage_pagination&ustate=N%2CU', 'https://www.autoscout24.com/lst/land-rover/defender?atype=C&cy=D%2CA%2CB%2CE%2CF%2CI%2CL%2CNL&damaged_listing=exclude&desc=0&page=20&powertype=kw&search_id=2gn5j092pnr&sort=standard&source=listpage_pagination&ustate=N%2CU']\n"
     ]
    }
   ],
   "source": [
    "def gerar_links_base(prefixo, sufixo, num_iteracoes, final_url):\n",
    "    links = []\n",
    "\n",
    "    for i in range(1, num_iteracoes + 1):\n",
    "        link = f\"{prefixo}{i}{sufixo}{final_url}\"\n",
    "        links.append(link)\n",
    "\n",
    "    return links\n",
    "\n",
    "# construindo o link:\n",
    "prefixo = \"https://www.autoscout24.com/lst/land-rover/defender?atype=C&cy=D%2CA%2CB%2CE%2CF%2CI%2CL%2CNL&damaged_listing=exclude&desc=0&page=\"\n",
    "sufixo = \"\"\n",
    "num_iteracoes = 20\n",
    "final_url = \"&powertype=kw&search_id=2gn5j092pnr&sort=standard&source=listpage_pagination&ustate=N%2CU\"\n",
    "            \n",
    "\n",
    "links_gerados = gerar_links_base(prefixo, sufixo, num_iteracoes, final_url)\n",
    "print(links_gerados)"
   ]
  },
  {
   "cell_type": "markdown",
   "id": "a53ddb98-db88-4c1e-887f-eb60931fe111",
   "metadata": {},
   "source": [
    "## Acessando os produtos e construindo a tabela\n"
   ]
  },
  {
   "cell_type": "code",
   "execution_count": 5,
   "id": "e4cbb121-3356-4353-a89d-ec472f2d9335",
   "metadata": {},
   "outputs": [],
   "source": [
    "# Teste dois\n",
    "for link in links_gerados:\n",
    "    #print(link)\n",
    "    headers = {'User-Agent': 'Mozilla/5.0 (Macintosh; Intel Mac OS X 10_11_5)AppleWebKit/537.36 (KHTML, like Gecko) Chrome/50.0.2661.102 Safari/537.36'}\n",
    "    page = requests.get( link )\n",
    "\n",
    "    #Salvando o objeto\n",
    "    content = page.content\n",
    "    #url_final = []\n",
    "    \n",
    "    #Convertendo para um objeto do tipo BeautifulSoup\n",
    "    soup = BeautifulSoup(content, 'html.parser')\n",
    "\n",
    "    # Beautiful Soup object\n",
    "    soup = BeautifulSoup( page.text, 'html.parser' )\n",
    "\n",
    "    add = soup.find_all('article', re.compile('cldt-summary-full-item'))\n",
    "     #Seller/Location\n",
    "    seller_detail = soup.find('div', attrs={'class':re.compile('SellerInfo')})\n",
    "    seller = seller_detail.find('span', attrs={'class':re.compile('SellerInfo_name')}).get_text().strip()\n",
    "    endereco = seller_detail.find('span', attrs={'class':re.compile('SellerInfo_address')}).get_text().strip()\n",
    "        \n",
    "      \n",
    "    for ads in add:\n",
    "        #auto = soup.find('a', attrs={'class':re.compile('ListItem_title')}).get_text().strip()\n",
    "        id_ads = ads['id']\n",
    "        manufacturer_by = ads['data-make']\n",
    "        model = ads['data-model']\n",
    "        km = ads['data-mileage']\n",
    "        year = ads['data-first-registration']\n",
    "        price = ads['data-price']\n",
    "        version = ads.find('span', attrs={'class': re.compile(\"ListItem_version\")}).getText()\n",
    "        description_car = ads.find('div', attrs={'class': re.compile(\"ListItem_wrapper\")}).getText()\n",
    "        \n",
    "        list_auto.append([id_ads, manufacturer_by, model, version, km, year, price, seller, endereco])\n",
    "        \n",
    "        df = pd.DataFrame(list_auto, columns=['id_ads', 'manufacturer_by', 'model', 'version',\n",
    "                                              'km', 'year', 'price', 'seller',\n",
    "                                              'endereco']).reset_index(drop=True)\n",
    "        df['scrapy_datetime'] = datetime.now().strftime('%Y-%m-%d %H:%M:%S')\n",
    "        \n",
    "\n",
    "        "
   ]
  },
  {
   "cell_type": "markdown",
   "id": "e64a2556-dd25-4c8a-8ccc-81a19d47b8b2",
   "metadata": {},
   "source": [
    "## Armazenando os dados"
   ]
  },
  {
   "cell_type": "code",
   "execution_count": 6,
   "id": "7b3fef8a-0844-4d2d-8510-8af3196195a0",
   "metadata": {},
   "outputs": [
    {
     "name": "stdout",
     "output_type": "stream",
     "text": [
      "399\n"
     ]
    }
   ],
   "source": [
    "rows = df.shape[0]\n",
    "print(rows)\n",
    "df.to_csv('../dataset/list_auto_cleaning.csv', encoding='utf-8', sep=';')"
   ]
  },
  {
   "cell_type": "markdown",
   "id": "07a59e4a-337d-4d94-86c9-d132da51fbb1",
   "metadata": {},
   "source": [
    "# Load DataSet"
   ]
  },
  {
   "cell_type": "code",
   "execution_count": 9,
   "id": "e3ff90df-0dd5-48ad-af84-2bd22de7903b",
   "metadata": {},
   "outputs": [],
   "source": [
    "df_scout = pd.read_csv('../dataset/list_auto_paginacao_automatica.csv', encoding='utf-8', sep=';')\n",
    "df_scout_dirty = pd.read_csv('../dataset/list_auto_cleaning.csv', encoding='utf-8', sep=';')\n"
   ]
  },
  {
   "cell_type": "code",
   "execution_count": 10,
   "id": "adf108f9-b46c-4b55-8f15-8aa82fbc3b63",
   "metadata": {},
   "outputs": [
    {
     "data": {
      "text/html": [
       "<div>\n",
       "<style scoped>\n",
       "    .dataframe tbody tr th:only-of-type {\n",
       "        vertical-align: middle;\n",
       "    }\n",
       "\n",
       "    .dataframe tbody tr th {\n",
       "        vertical-align: top;\n",
       "    }\n",
       "\n",
       "    .dataframe thead th {\n",
       "        text-align: right;\n",
       "    }\n",
       "</style>\n",
       "<table border=\"1\" class=\"dataframe\">\n",
       "  <thead>\n",
       "    <tr style=\"text-align: right;\">\n",
       "      <th></th>\n",
       "      <th>Unnamed: 0</th>\n",
       "      <th>id_ads</th>\n",
       "      <th>manufacturer_by</th>\n",
       "      <th>model</th>\n",
       "      <th>version</th>\n",
       "      <th>km</th>\n",
       "      <th>year</th>\n",
       "      <th>price</th>\n",
       "      <th>seller</th>\n",
       "      <th>endereco</th>\n",
       "      <th>scrapy_datetime</th>\n",
       "    </tr>\n",
       "  </thead>\n",
       "  <tbody>\n",
       "    <tr>\n",
       "      <th>0</th>\n",
       "      <td>0</td>\n",
       "      <td>7fd72920-850d-43ba-a452-cbae1a6398da</td>\n",
       "      <td>land rover</td>\n",
       "      <td>defender</td>\n",
       "      <td>110 SW SE</td>\n",
       "      <td>81000</td>\n",
       "      <td>08-2015</td>\n",
       "      <td>38000</td>\n",
       "      <td>AUTOMOVILES MARTIN</td>\n",
       "      <td>Contáctanos en: • ES-14440 VILLANUEVA DE CÓRDOBA</td>\n",
       "      <td>2023-10-19 12:22:03</td>\n",
       "    </tr>\n",
       "    <tr>\n",
       "      <th>1</th>\n",
       "      <td>1</td>\n",
       "      <td>840de0a3-82a9-454c-a725-508e211af7de</td>\n",
       "      <td>land rover</td>\n",
       "      <td>defender</td>\n",
       "      <td>Defender 90 td5 -MOTORE NUOVO-MECCANICA PERFETTA</td>\n",
       "      <td>147000</td>\n",
       "      <td>11-1999</td>\n",
       "      <td>24900</td>\n",
       "      <td>AUTOMOVILES MARTIN</td>\n",
       "      <td>Contáctanos en: • ES-14440 VILLANUEVA DE CÓRDOBA</td>\n",
       "      <td>2023-10-19 12:22:03</td>\n",
       "    </tr>\n",
       "    <tr>\n",
       "      <th>2</th>\n",
       "      <td>2</td>\n",
       "      <td>6611c967-ab67-4db5-b28f-37b77fcd332f</td>\n",
       "      <td>land rover</td>\n",
       "      <td>defender</td>\n",
       "      <td>110 SW E</td>\n",
       "      <td>79000</td>\n",
       "      <td>08-2013</td>\n",
       "      <td>39900</td>\n",
       "      <td>AUTOMOVILES MARTIN</td>\n",
       "      <td>Contáctanos en: • ES-14440 VILLANUEVA DE CÓRDOBA</td>\n",
       "      <td>2023-10-19 12:22:03</td>\n",
       "    </tr>\n",
       "    <tr>\n",
       "      <th>3</th>\n",
       "      <td>3</td>\n",
       "      <td>7484ee53-ebc5-4510-8bf9-032e657837cf</td>\n",
       "      <td>land rover</td>\n",
       "      <td>defender</td>\n",
       "      <td>110 SW E</td>\n",
       "      <td>78000</td>\n",
       "      <td>08-2012</td>\n",
       "      <td>39500</td>\n",
       "      <td>AUTOMOVILES MARTIN</td>\n",
       "      <td>Contáctanos en: • ES-14440 VILLANUEVA DE CÓRDOBA</td>\n",
       "      <td>2023-10-19 12:22:03</td>\n",
       "    </tr>\n",
       "    <tr>\n",
       "      <th>4</th>\n",
       "      <td>4</td>\n",
       "      <td>08c56b66-b680-4f5c-b63a-33ce190b65eb</td>\n",
       "      <td>land rover</td>\n",
       "      <td>defender</td>\n",
       "      <td>110 SW SE</td>\n",
       "      <td>52000</td>\n",
       "      <td>08-2014</td>\n",
       "      <td>42600</td>\n",
       "      <td>AUTOMOVILES MARTIN</td>\n",
       "      <td>Contáctanos en: • ES-14440 VILLANUEVA DE CÓRDOBA</td>\n",
       "      <td>2023-10-19 12:22:03</td>\n",
       "    </tr>\n",
       "  </tbody>\n",
       "</table>\n",
       "</div>"
      ],
      "text/plain": [
       "   Unnamed: 0                                id_ads manufacturer_by     model  \\\n",
       "0           0  7fd72920-850d-43ba-a452-cbae1a6398da      land rover  defender   \n",
       "1           1  840de0a3-82a9-454c-a725-508e211af7de      land rover  defender   \n",
       "2           2  6611c967-ab67-4db5-b28f-37b77fcd332f      land rover  defender   \n",
       "3           3  7484ee53-ebc5-4510-8bf9-032e657837cf      land rover  defender   \n",
       "4           4  08c56b66-b680-4f5c-b63a-33ce190b65eb      land rover  defender   \n",
       "\n",
       "                                            version      km     year  price  \\\n",
       "0                                         110 SW SE   81000  08-2015  38000   \n",
       "1  Defender 90 td5 -MOTORE NUOVO-MECCANICA PERFETTA  147000  11-1999  24900   \n",
       "2                                          110 SW E   79000  08-2013  39900   \n",
       "3                                          110 SW E   78000  08-2012  39500   \n",
       "4                                         110 SW SE   52000  08-2014  42600   \n",
       "\n",
       "               seller                                          endereco  \\\n",
       "0  AUTOMOVILES MARTIN  Contáctanos en: • ES-14440 VILLANUEVA DE CÓRDOBA   \n",
       "1  AUTOMOVILES MARTIN  Contáctanos en: • ES-14440 VILLANUEVA DE CÓRDOBA   \n",
       "2  AUTOMOVILES MARTIN  Contáctanos en: • ES-14440 VILLANUEVA DE CÓRDOBA   \n",
       "3  AUTOMOVILES MARTIN  Contáctanos en: • ES-14440 VILLANUEVA DE CÓRDOBA   \n",
       "4  AUTOMOVILES MARTIN  Contáctanos en: • ES-14440 VILLANUEVA DE CÓRDOBA   \n",
       "\n",
       "       scrapy_datetime  \n",
       "0  2023-10-19 12:22:03  \n",
       "1  2023-10-19 12:22:03  \n",
       "2  2023-10-19 12:22:03  \n",
       "3  2023-10-19 12:22:03  \n",
       "4  2023-10-19 12:22:03  "
      ]
     },
     "execution_count": 10,
     "metadata": {},
     "output_type": "execute_result"
    }
   ],
   "source": [
    "df_scout_dirty.head()"
   ]
  },
  {
   "cell_type": "code",
   "execution_count": null,
   "id": "3d82ac5f-a531-42c4-a2f5-1d34cc8402a7",
   "metadata": {},
   "outputs": [],
   "source": []
  }
 ],
 "metadata": {
  "kernelspec": {
   "display_name": "ws_scout",
   "language": "python",
   "name": "python3"
  },
  "language_info": {
   "codemirror_mode": {
    "name": "ipython",
    "version": 3
   },
   "file_extension": ".py",
   "mimetype": "text/x-python",
   "name": "python",
   "nbconvert_exporter": "python",
   "pygments_lexer": "ipython3",
   "version": "3.11.0"
  }
 },
 "nbformat": 4,
 "nbformat_minor": 5
}
